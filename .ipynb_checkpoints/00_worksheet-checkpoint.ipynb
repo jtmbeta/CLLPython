{
 "cells": [
  {
   "cell_type": "markdown",
   "id": "3f259555",
   "metadata": {},
   "source": [
    "Week 0 worksheet\n",
    "===============\n",
    "\n",
    "This week is all about familiarising yourself with Jupyter and Spyder. Both of these software have a `Help` menu, which is a great place to start. Don't worry if you encounter any technical jargon or concepts that you don't understand! Just make a note, and remember to ask me about it when you get the chance.\n",
    "\n",
    "\n",
    "Jupyter\n",
    "---------\n",
    "\n",
    "1. Take the `User Interface Tour`\n",
    "2. Have a look at the `Keyboard Shortcuts`\n",
    "3. Read the `Notebook Help` pages\n",
    "\n",
    "![](./img/jupyter_help.png)\n",
    "\n",
    "\n",
    "Spyder\n",
    "--------\n",
    "\n",
    "1. Take the Spyder tour\n",
    "2. Review the Spyder documentation\n",
    "3. Watch Parts 1, 2 and 3 of the \"First steps with Spyder\" tutorial videos\n",
    "4. Skim through the Spyder tutorial (you can work through this at you own pace for extra practice).\n",
    "5. Look at the Shortcut summary\n",
    "\n",
    "![](./img/spyder_help.png)"
   ]
  },
  {
   "cell_type": "markdown",
   "id": "b938af5e",
   "metadata": {},
   "source": [
    "## Exercises\n",
    "\n",
    "This week there are two short exercises for you have a go at."
   ]
  },
  {
   "cell_type": "markdown",
   "id": "811f29e4",
   "metadata": {},
   "source": [
    "### Exercise 1\n",
    "\n",
    "Let's have another look at the number guessing game script. With an instruction like **\"Enter any number: \"**, a naive user could be forgiven for entering something like 78.3, which is, after all, a number. \n",
    "\n",
    "But if a decimal number is entered, the program throws a cryptic error message. See for yourself by clicking on the cell below, pressing `Shift+Enter` to execute the code, and then entering a decimal number instead of a whole number. Don't worry about the error message for now. Suffice to say that the computer is unable to carry out the instruction!\n",
    "\n",
    "It would be better if the user knew not to enter a decimal number. **Change the code below so that when it is executed the instruction will read \"Enter a whole number between 0 and 100: \"**\n",
    "\n",
    "**Hint** - look at the first `input` function\n",
    "\n",
    "If you found that easy, try changing the message at the end of the program to make it more congratulatory!\n"
   ]
  },
  {
   "cell_type": "code",
   "execution_count": 10,
   "id": "bf622d24",
   "metadata": {},
   "outputs": [
    {
     "name": "stdout",
     "output_type": "stream",
     "text": [
      "Enter any number: 78.3\n"
     ]
    },
    {
     "ename": "ValueError",
     "evalue": "invalid literal for int() with base 10: '78.3'",
     "output_type": "error",
     "traceback": [
      "\u001b[0;31m---------------------------------------------------------------------------\u001b[0m",
      "\u001b[0;31mValueError\u001b[0m                                Traceback (most recent call last)",
      "Input \u001b[0;32mIn [10]\u001b[0m, in \u001b[0;36m<cell line: 10>\u001b[0;34m()\u001b[0m\n\u001b[1;32m      7\u001b[0m n \u001b[38;5;241m=\u001b[39m random\u001b[38;5;241m.\u001b[39mrandrange(\u001b[38;5;241m1\u001b[39m, \u001b[38;5;241m100\u001b[39m)\n\u001b[1;32m      9\u001b[0m \u001b[38;5;66;03m# Ask the user to have a guess\u001b[39;00m\n\u001b[0;32m---> 10\u001b[0m guess \u001b[38;5;241m=\u001b[39m \u001b[38;5;28;43mint\u001b[39;49m\u001b[43m(\u001b[49m\u001b[38;5;28;43minput\u001b[39;49m\u001b[43m(\u001b[49m\u001b[38;5;124;43m\"\u001b[39;49m\u001b[38;5;124;43mEnter any number: \u001b[39;49m\u001b[38;5;124;43m\"\u001b[39;49m\u001b[43m)\u001b[49m\u001b[43m)\u001b[49m\n\u001b[1;32m     12\u001b[0m \u001b[38;5;66;03m# Keep asking until the guess is right\u001b[39;00m\n\u001b[1;32m     13\u001b[0m \u001b[38;5;28;01mwhile\u001b[39;00m n \u001b[38;5;241m!=\u001b[39m guess:\n",
      "\u001b[0;31mValueError\u001b[0m: invalid literal for int() with base 10: '78.3'"
     ]
    }
   ],
   "source": [
    "\"\"\"Play a number guessing game.\"\"\"\n",
    "\n",
    "import random\n",
    "\n",
    "\n",
    "# Generate a random number between 0 and 100\n",
    "n = random.randrange(1, 100)\n",
    "\n",
    "# Ask the user to have a guess\n",
    "guess = int(input(\"Enter any number: \"))\n",
    "\n",
    "# Keep asking until the guess is right\n",
    "while n != guess:\n",
    "    if guess < n:\n",
    "        print(\"Too low\")\n",
    "        guess = int(input(\"Enter number again: \"))\n",
    "    elif guess > n:\n",
    "        print(\"Too high!\")\n",
    "        guess = int(input(\"Enter number again: \"))\n",
    "    else:\n",
    "        break\n",
    "\n",
    "# Tell user they guessed right\n",
    "print(\"you guessed it right!!\")"
   ]
  },
  {
   "cell_type": "markdown",
   "id": "dd74eb9a",
   "metadata": {},
   "source": [
    "Exercise 2\n",
    "------------\n",
    "\n",
    "Remember the Fahrenheit to Celsius program? \n",
    "\n",
    "Depending on the Fahrenheit value that the user provides, the reported temperature in degrees Celsius may be given with much more precision than we need. For example, if I enter 75.5 as a temperature in Fahrenheit, the result in Celisus is reported as 24.166666666666668. We don't need all those extra numbers!\n",
    "\n",
    "Can you figure out a way to round the Celsius value to two decimal places? We haven't learned how to do this yet, so it may prove a tricky one. You may wish to try Googling \"How to round numbers in Python\".\n",
    "\n",
    "Good luck!\n",
    "\n"
   ]
  },
  {
   "cell_type": "code",
   "execution_count": 11,
   "id": "883b9f0a",
   "metadata": {},
   "outputs": [
    {
     "name": "stdout",
     "output_type": "stream",
     "text": [
      "Enter temperature in Fahrenheit: 75.5\n",
      "75.5 degrees Fahrenheit is equal to 24.166666666666668 degrees Celsius.\n"
     ]
    }
   ],
   "source": [
    "\"\"\"Convert Fahrenheit to Celsius.\"\"\"\n",
    "\n",
    "# Ask user to enter a temperature in Fahrenheit\n",
    "temp = float(input(\"Enter temperature in Fahrenheit: \"))\n",
    "\n",
    "# Convert to celsius\n",
    "celsius = (temp - 32) * (5 / 9)\n",
    "\n",
    "print(f\"{temp} degrees Fahrenheit is equal to {celsius} degrees Celsius.\")\n"
   ]
  }
 ],
 "metadata": {
  "kernelspec": {
   "display_name": "Python 3 (ipykernel)",
   "language": "python",
   "name": "python3"
  },
  "language_info": {
   "codemirror_mode": {
    "name": "ipython",
    "version": 3
   },
   "file_extension": ".py",
   "mimetype": "text/x-python",
   "name": "python",
   "nbconvert_exporter": "python",
   "pygments_lexer": "ipython3",
   "version": "3.9.13"
  }
 },
 "nbformat": 4,
 "nbformat_minor": 5
}
