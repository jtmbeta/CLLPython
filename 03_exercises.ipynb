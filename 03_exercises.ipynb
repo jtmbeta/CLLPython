{
 "cells": [
  {
   "cell_type": "markdown",
   "id": "237d016f",
   "metadata": {},
   "source": [
    "# Week 3 - Exercises\n",
    "\n",
    "## Exercise 1 - First module\n",
    "\n",
    "This week we are going to write a module and import some functions from it. \n",
    "\n",
    "For the code below to work, you need to do the following:\n",
    "\n",
    "  1. Create a file called `mymodule.py` and put it in the same folder as this notebook. It me be easiest to do this in Spyder.\n",
    "  2. Write the three functions that are to be imported from `mymodule`. Note that these are the three scripts from the first week, but they will need to be implemented in the module as functions.\n",
    "\n",
    "The desired output is as follows. First, we play the number guessing game, which should return the secret number at the end. Then, we check whether that number is a prime number. Finally, we pretend that the number is a temperature in degrees Fahrenheit and report the equivalent in Celsius. \n",
    "\n",
    "There are many ways to approach this problem, but the output should look something like below."
   ]
  },
  {
   "cell_type": "code",
   "execution_count": 1,
   "id": "2916c446-ca31-4fa3-81d0-92fa497bf6f5",
   "metadata": {},
   "outputs": [
    {
     "name": "stdout",
     "output_type": "stream",
     "text": [
      "Let's play a guessing game!\n",
      "\n"
     ]
    },
    {
     "name": "stdin",
     "output_type": "stream",
     "text": [
      "Enter any whole number between 1 and 100:  50\n"
     ]
    },
    {
     "name": "stdout",
     "output_type": "stream",
     "text": [
      "Too low\n"
     ]
    },
    {
     "name": "stdin",
     "output_type": "stream",
     "text": [
      "Enter number again:  75\n"
     ]
    },
    {
     "name": "stdout",
     "output_type": "stream",
     "text": [
      "Too low\n"
     ]
    },
    {
     "name": "stdin",
     "output_type": "stream",
     "text": [
      "Enter number again:  90\n"
     ]
    },
    {
     "name": "stdout",
     "output_type": "stream",
     "text": [
      "Too high!\n"
     ]
    },
    {
     "name": "stdin",
     "output_type": "stream",
     "text": [
      "Enter number again:  83\n"
     ]
    },
    {
     "name": "stdout",
     "output_type": "stream",
     "text": [
      "Too high!\n"
     ]
    },
    {
     "name": "stdin",
     "output_type": "stream",
     "text": [
      "Enter number again:  82\n"
     ]
    },
    {
     "name": "stdout",
     "output_type": "stream",
     "text": [
      "Too high!\n"
     ]
    },
    {
     "name": "stdin",
     "output_type": "stream",
     "text": [
      "Enter number again:  81\n"
     ]
    },
    {
     "name": "stdout",
     "output_type": "stream",
     "text": [
      "Too high!\n"
     ]
    },
    {
     "name": "stdin",
     "output_type": "stream",
     "text": [
      "Enter number again:  80\n"
     ]
    },
    {
     "name": "stdout",
     "output_type": "stream",
     "text": [
      "Too high!\n"
     ]
    },
    {
     "name": "stdin",
     "output_type": "stream",
     "text": [
      "Enter number again:  78\n"
     ]
    },
    {
     "name": "stdout",
     "output_type": "stream",
     "text": [
      "You guessed it right!!\n",
      "\n",
      "Checking to see if 78 is a prime number.\n",
      "\tTesting for 2\n",
      "78 is divisible by 2, so it is not a prime number.\n",
      "78 degrees fahrenheit is equivalent to 25.56 degrees celsius.\n"
     ]
    }
   ],
   "source": [
    "from mymodule import (\n",
    "    guess_the_number,\n",
    "    check_prime_number, \n",
    "    fahrenheit_to_celsius\n",
    ")\n",
    "\n",
    "# Play the number guessing game\n",
    "number = guess_the_number()\n",
    "\n",
    "# Check whether the secret number is a prime\n",
    "check_prime_number(number)\n",
    "\n",
    "# If the number was a temperature in degrees Fahrenheit,\n",
    "# report the equivalent in Celsisus\n",
    "fahrenheit_to_celsius(number)"
   ]
  }
 ],
 "metadata": {
  "kernelspec": {
   "display_name": "Python 3 (ipykernel)",
   "language": "python",
   "name": "python3"
  },
  "language_info": {
   "codemirror_mode": {
    "name": "ipython",
    "version": 3
   },
   "file_extension": ".py",
   "mimetype": "text/x-python",
   "name": "python",
   "nbconvert_exporter": "python",
   "pygments_lexer": "ipython3",
   "version": "3.9.15"
  },
  "widgets": {
   "application/vnd.jupyter.widget-state+json": {
    "state": {},
    "version_major": 2,
    "version_minor": 0
   }
  }
 },
 "nbformat": 4,
 "nbformat_minor": 5
}
