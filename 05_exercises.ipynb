{
 "cells": [
  {
   "cell_type": "markdown",
   "id": "10b6e7c6-72c8-4e7f-97f9-4d48a7c5badb",
   "metadata": {
    "tags": []
   },
   "source": [
    "# Week 5 - Exercises\n",
    "\n",
    "## Exercise 1 - RMS Titanic\n",
    "\n",
    "On April 15, 1912, during her maiden voyage from Southampton to New York, the four-funnelled ocean liner *RMS Titanic* hit an iceberg and sank to the bottom of the ocean in what is now one of the most infamous maritime disasters in history. For aesthetic reasons, and because the ship was widely considered unsinkable, many lifeboats were removed before the launch. This unfortunate decision contributed to the death of 1502 out of 2224 passengers and crew. \n",
    "\n",
    "The [Encyclopedia Titanica](https://www.encyclopedia-titanica.org/) maintain a database of the names of passengers on the Titanic, which includes other information such as age, sex, and whether the passenger survived. A subset of these data are available freely through [Kaggle](https://www.kaggle.com/), an online data repository that also hosts regular data science competitions. Extensive analyses of the Titanic data set have shown that, while luck played its part, some groups of passengers did appear to have a better chance of surviving than others. \n",
    "\n",
    "The Titanic passenger dataset from Kaggle can be found in the `data` folder of the course materials, with the name `titanic.csv`. Let's use `pandas` to interrogate it!\n",
    "\n",
    "Here is the key to the data:\n",
    "\n",
    "| Variable   | Definition                                       | Key                                            |\n",
    "|:-----------|:-------------------------------------------------|:-----------------------------------------------|\n",
    "| PassengerID| Unique numeric identifier for the passenger      | NA                                             |\n",
    "| Survival   | Survival                                         | 0 = No, 1 = Yes                                |\n",
    "| Pclass     | Ticket class                                     | 1 = 1st, 2 = 2nd, 3 = 3rd                      |\n",
    "| Sex        | Sex                                              | NA                                             |\n",
    "| Age        | Age in years                                     | NA                                             |\n",
    "| SibSp      | Number of siblings / spouses aboard the Titanic  | NA                                             |\n",
    "| Parch      | Number  of parents / children aboard the Titanic | NA                                             |\n",
    "| Ticket     | Ticket number                                    | NA                                             |\n",
    "| Fare       | Passenger fare                                   | NA                                             |\n",
    "| Cabin      | Cabin number                                     | NA                                             |\n",
    "| Embarked   | Port of Embarkation                              | C = Cherbourg, Q = Queenstown, S = Southampton |\n",
    "\n",
    "**Notes:**\n",
    "\n",
    "`Pclass`: a proxy for socio-economic status\n",
    "  - 1st = Upper\n",
    "  - 2nd = Middle\n",
    "  - 3rd = Lower\n",
    "\n",
    "`Age`: fractional if less than 1. If the age is estimated, it is in the form of `xx.5`\n",
    "\n",
    "`SibSp`: The dataset defines family relations as follows:\n",
    "  - Sibling = brother, sister, stepbrother, stepsister\n",
    "  - Spouse = husband, wife (mistresses and fiancés were ignored)\n",
    "\n",
    "`Parch`: The dataset defines family relations as follows:\n",
    "  - Parent = mother, father\n",
    "  - Child = daughter, son, stepdaughter, stepson\n",
    "  - Some children travelled only with a nanny, therefore parch=0 for them.\n"
   ]
  },
  {
   "cell_type": "markdown",
   "id": "2ccdabe6-7534-441d-b4ea-504071f9697d",
   "metadata": {
    "tags": []
   },
   "source": [
    "### **1.** Import `pandas` and read `data/titanic.csv` into a `DataFrame`"
   ]
  },
  {
   "cell_type": "code",
   "execution_count": null,
   "id": "75f72479-c2d7-4751-a2bf-bf71228f751c",
   "metadata": {},
   "outputs": [],
   "source": []
  },
  {
   "cell_type": "markdown",
   "id": "370a9327-63df-481a-8dc7-587870a329ae",
   "metadata": {
    "tags": []
   },
   "source": [
    "### **2.** Display the ***first 6*** rows of the `DataFrame`"
   ]
  },
  {
   "cell_type": "code",
   "execution_count": null,
   "id": "45c67b93-e272-4ed2-ade2-47c71b3e326e",
   "metadata": {},
   "outputs": [],
   "source": []
  },
  {
   "cell_type": "markdown",
   "id": "d72e849b-2356-4f20-9bab-4988527ecd12",
   "metadata": {},
   "source": [
    "### **3.** Display the ***last 6*** rows of the `DataFrame`"
   ]
  },
  {
   "cell_type": "code",
   "execution_count": null,
   "id": "9f9569e2-8e59-4cbb-921e-392b049b751d",
   "metadata": {},
   "outputs": [],
   "source": []
  },
  {
   "cell_type": "markdown",
   "id": "eaef2356-8b77-4ab5-a01a-65d97c62e09d",
   "metadata": {},
   "source": [
    "### **4.** Assign `PassengerID` as the index"
   ]
  },
  {
   "cell_type": "code",
   "execution_count": null,
   "id": "fd7ce37b-4d40-4bf0-8982-db696057bee3",
   "metadata": {},
   "outputs": [],
   "source": []
  },
  {
   "cell_type": "markdown",
   "id": "8b8313e9-fab5-4455-9af1-42e1b9363187",
   "metadata": {},
   "source": [
    "### **5.** Print out all of the available information for the passenger with `567` as their `PassengerID`"
   ]
  },
  {
   "cell_type": "code",
   "execution_count": null,
   "id": "c12e5187-7980-4a39-9b0c-28710e1695a2",
   "metadata": {},
   "outputs": [],
   "source": []
  },
  {
   "cell_type": "markdown",
   "id": "93df33a8-bbe9-4856-b007-e4ea5e70500b",
   "metadata": {},
   "source": [
    "### **6.** Generate some descriptive statistics for the numeric data"
   ]
  },
  {
   "cell_type": "code",
   "execution_count": null,
   "id": "7175c60f-fca5-4888-a495-f137b50e8de4",
   "metadata": {},
   "outputs": [],
   "source": []
  },
  {
   "cell_type": "markdown",
   "id": "97b6bb17-a07b-4e30-aac5-f7db869be88f",
   "metadata": {},
   "source": [
    "### **7.** How many male and female passengers are there in this dataset? Use `pandas` to show this information in a simple bar chart."
   ]
  },
  {
   "cell_type": "code",
   "execution_count": null,
   "id": "7a8f8992-1365-4752-8f77-b52f885d380a",
   "metadata": {},
   "outputs": [],
   "source": []
  },
  {
   "cell_type": "markdown",
   "id": "0790b030-a690-4f9f-9252-0882d9792831",
   "metadata": {},
   "source": [
    "### **8.** What were the names of the oldest and youngest passengers?"
   ]
  },
  {
   "cell_type": "code",
   "execution_count": null,
   "id": "034bd44f-8a13-4366-ac98-21635c72cb86",
   "metadata": {},
   "outputs": [],
   "source": []
  },
  {
   "cell_type": "markdown",
   "id": "15f42336-f0ef-4946-90e0-1e57c4e81691",
   "metadata": {},
   "source": [
    "### **9.** How many of the 5 oldest female passengers traveled first class?"
   ]
  },
  {
   "cell_type": "code",
   "execution_count": null,
   "id": "a7ec39a6-b0cb-414a-b58e-f5ac627a0078",
   "metadata": {},
   "outputs": [],
   "source": []
  },
  {
   "cell_type": "markdown",
   "id": "b6ca641f-0337-446c-96da-948fb441cb5a",
   "metadata": {},
   "source": [
    "### **10.** How many passengers embarked at Southampton?"
   ]
  },
  {
   "cell_type": "code",
   "execution_count": null,
   "id": "43133f2c-affd-4114-828e-fcf89095fbcd",
   "metadata": {},
   "outputs": [],
   "source": []
  },
  {
   "cell_type": "markdown",
   "id": "c3f97a78-7690-457b-b3a9-20ca098592e1",
   "metadata": {},
   "source": [
    "### **11.** Who paid the most for their ticket?"
   ]
  },
  {
   "cell_type": "code",
   "execution_count": null,
   "id": "23c7d467-c3cb-40c7-bcd8-a0cbd7ea260b",
   "metadata": {},
   "outputs": [],
   "source": []
  },
  {
   "cell_type": "markdown",
   "id": "d01d906e-050e-4fda-a1bc-500dd56a2b4b",
   "metadata": {},
   "source": [
    "### **12.** Of the top ten passengers who ***paid the most*** for their ticket, how many survived?"
   ]
  },
  {
   "cell_type": "code",
   "execution_count": null,
   "id": "95966a9a-b3ad-4d79-963a-4eee06d39b62",
   "metadata": {},
   "outputs": [],
   "source": []
  },
  {
   "cell_type": "markdown",
   "id": "3cdf4571-2b8a-4277-9a38-74afee1bf5c5",
   "metadata": {},
   "source": [
    "### **13.** Of the top ten passengers who ***paid the least*** for their ticket, how many survived?"
   ]
  },
  {
   "cell_type": "code",
   "execution_count": null,
   "id": "a79424da-aa22-43ee-b9f0-345b2e66bf85",
   "metadata": {},
   "outputs": [],
   "source": []
  },
  {
   "cell_type": "markdown",
   "id": "7b9c1534-5651-483b-9adc-b2f0fd589094",
   "metadata": {},
   "source": [
    "### **14.** Of all surviving passengers, how many were male and how many were female?"
   ]
  },
  {
   "cell_type": "code",
   "execution_count": null,
   "id": "1e21120d-3474-4fc2-bc5c-cc6519d426fd",
   "metadata": {},
   "outputs": [],
   "source": []
  },
  {
   "cell_type": "markdown",
   "id": "cc7db7b4-961e-4425-bbc7-1839cbc43262",
   "metadata": {
    "tags": []
   },
   "source": [
    "### **15.** Make a boxplot describing the age distribution for males and females, showing the mean age as well as the median."
   ]
  },
  {
   "cell_type": "code",
   "execution_count": null,
   "id": "d506f886-7360-4b94-b8a7-346e345c8540",
   "metadata": {},
   "outputs": [],
   "source": []
  },
  {
   "cell_type": "markdown",
   "id": "9cf2b3e0-03fd-402a-896c-030289621368",
   "metadata": {},
   "source": [
    "### **16.** Get the information for all passengers with 'Frank' in their name"
   ]
  },
  {
   "cell_type": "code",
   "execution_count": null,
   "id": "f6a1da6e-8263-4171-a5eb-d0679b200e91",
   "metadata": {},
   "outputs": [],
   "source": []
  },
  {
   "cell_type": "markdown",
   "id": "a4904884-e865-4e43-9e43-b58413f5c8f7",
   "metadata": {
    "tags": []
   },
   "source": [
    "### **17.** What was the surname of the largest family on board the Titanic?"
   ]
  },
  {
   "cell_type": "code",
   "execution_count": null,
   "id": "920466d7-dd0c-47a7-af76-80c2d5c73001",
   "metadata": {},
   "outputs": [],
   "source": []
  },
  {
   "cell_type": "markdown",
   "id": "e80cced0-32c1-4361-affe-f257392d81bb",
   "metadata": {
    "tags": []
   },
   "source": [
    "### **18.** What was the name, sex and age of the youngest passenger to embark at Cherbourg? "
   ]
  },
  {
   "cell_type": "code",
   "execution_count": null,
   "id": "0d3b43be-15e4-4318-9a02-c8b9d278fbf6",
   "metadata": {},
   "outputs": [],
   "source": []
  },
  {
   "cell_type": "markdown",
   "id": "81c157d9-98d9-4309-b2cc-b8fd480e00db",
   "metadata": {
    "tags": []
   },
   "source": [
    "### **19.** Who stayed in cabin `D56`? Can you find out anything interesting about this person on the [Encyclopedia Titanica](https://www.encyclopedia-titanica.org/)?"
   ]
  },
  {
   "cell_type": "code",
   "execution_count": null,
   "id": "79e0ae04-059d-4047-9b80-ddb041b24ce4",
   "metadata": {},
   "outputs": [],
   "source": []
  },
  {
   "cell_type": "markdown",
   "id": "e4f2b533-c55d-4190-8fb4-3a22a747d6ae",
   "metadata": {},
   "source": [
    "### **20.** There was a Countess aboard the Titanic. What information can you find about her?"
   ]
  },
  {
   "cell_type": "code",
   "execution_count": null,
   "id": "3742bb2c-9f46-4b41-a4ed-01d83a6f8d15",
   "metadata": {},
   "outputs": [],
   "source": []
  },
  {
   "cell_type": "markdown",
   "id": "eeab3855-d9c7-4651-90e6-ae4dd923ab0d",
   "metadata": {},
   "source": [
    "### **21.** Make two new columns containing the first and last name for each passenger."
   ]
  },
  {
   "cell_type": "code",
   "execution_count": null,
   "id": "3d6f7e7f-6323-4b6b-a81d-be72a7bf8b00",
   "metadata": {},
   "outputs": [],
   "source": []
  },
  {
   "cell_type": "markdown",
   "id": "9839d185-edd4-4578-8ebb-3b544438eead",
   "metadata": {
    "tags": []
   },
   "source": [
    "### **22.** Make a bar chart showing the proportion of males and females who survived in each class"
   ]
  },
  {
   "cell_type": "code",
   "execution_count": null,
   "id": "8d8f34ed-c17e-4b86-9254-7eb3feacfbca",
   "metadata": {},
   "outputs": [],
   "source": []
  }
 ],
 "metadata": {
  "kernelspec": {
   "display_name": "Python 3 (ipykernel)",
   "language": "python",
   "name": "python3"
  },
  "language_info": {
   "codemirror_mode": {
    "name": "ipython",
    "version": 3
   },
   "file_extension": ".py",
   "mimetype": "text/x-python",
   "name": "python",
   "nbconvert_exporter": "python",
   "pygments_lexer": "ipython3",
   "version": "3.9.15"
  },
  "widgets": {
   "application/vnd.jupyter.widget-state+json": {
    "state": {},
    "version_major": 2,
    "version_minor": 0
   }
  }
 },
 "nbformat": 4,
 "nbformat_minor": 5
}
