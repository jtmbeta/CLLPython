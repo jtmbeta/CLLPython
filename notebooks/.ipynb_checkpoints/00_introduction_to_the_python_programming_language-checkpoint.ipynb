{
 "cells": [
  {
   "cell_type": "markdown",
   "id": "0fe603d3-35c8-4beb-8cb7-7b3f31909313",
   "metadata": {},
   "source": [
    "# Week 0 - Introduction to the Python programming language\n",
    "\n",
    "\n",
    "Today you are going to install Anaconda, learn the basics of Jupyter and Spyder, and write your first Python program.\n",
    "\n",
    "\n",
    "## 1. Install Anaconda\n",
    "\n",
    "Anaconda is a free and open-source data science platform for Python. It serves as a hub for the Python programming language and provides convenient tools for managing all of the different versions of Python and its many packages. Anaconda does a lot of behind-the-scenes work to ensure that packages do not conflict with one another. \n",
    "\n",
    "To **install Anaconda**, [follow this link](https://www.anaconda.com/) and select the correct download for your platform. \n",
    "\n",
    "After successfully installing the software, **start the Anaconda Navigator App**, which should now appear in your Start Menu (Windows) or Application Folder (Mac).\n",
    "\n",
    "Now, use the Navigator App to **create a Python environment**.\n",
    "\n",
    "  1. Select the `Environments` tab\n",
    "  2. Click the `+` box at the bottom that says `Create`\n",
    "  3. Give your environment a sensible name, e.g., *Py3* or *python3*\n",
    "  4. Check that you are installing the latest version of Python\n",
    "  5. Click the `Create` button to create the environment\n",
    "\n",
    "![](../images/anaconda_navigator_create_environment.png)\n",
    "\n",
    "When you click `Create`, the software will get to work setting up your Python environment. When it has finished, **click on the newly created environment to make sure that it is activated**. \n",
    "\n",
    "***N.B.*** **A Python environment is a way of isolating the functionality needed for a specific project.** If you were a crafty person who had various knitting and cross-stitching projects on the go, it would make sense to keep your knitting and cross-stitching materials in separate boxes so you can quickly grab the right box for the project that you want to work on. Its the same principal with Python environments. If you want to learn more about Python environments with conda, [this article](https://towardsdatascience.com/a-guide-to-conda-environments-bc6180fc533) goes into a lot of detail, but all you really need to know at the moment is that you have successfully made one, and that **you should remember to activate it each time you open the Anaconda Navigator!**\n",
    "\n",
    "## 2. Welcome to [Jupyter!](https://jupyter.org/)\n",
    "\n",
    "Jupyter is **a web-based interactive development environment** that has become extremely popular in recent years. It is a great tool for beginners as it allows you to experiment freely with code snippets and to present or share your work in accessible and appealing formats. We will use Jupyter for much of this course, and the document you are currently reading was in fact prepared in a Jupyter notebook. \n",
    "\n",
    "To **install Jupyter Notebook**:\n",
    "\n",
    "  1. Click on the `Home` tab in Anaconda Navigator\n",
    "  2. Check that your newly created Python environment is active\n",
    "  3. Find the Jupyter Notebook app and click `install`\n",
    "  4. After installing, click `Launch`\n",
    "  \n",
    "![](../images/anaconda_navigator_install_jupyter.png)\n",
    "\n",
    "**After launching Jupyter, you should see a new tab open in your web browser.**\n",
    "\n",
    "  1. Click on the tab and use the file browser to navigate to the folder where you are keeping the documents for this course.\n",
    "  2. Find and open the document titled `00_introduction_to_the_python_programming_language.ipynb` (that's this document!)\n",
    "  3. It should open in a new tab. Scroll down to this part of the document.\n",
    "\n",
    "![](../images/jupyter_gui.png)\n",
    "\n",
    "**N.B.** The file extension for Jupyter Notebooks is `.ipynb`, which stands for \"IPython Notebook\". That's because Jupyter notebooks \n",
    "\n",
    "---\n"
   ]
  },
  {
   "cell_type": "markdown",
   "id": "d5288d1b",
   "metadata": {},
   "source": [
    "Now you are viewing this document as a Jupyter Notebook!\n",
    "\n",
    "In a Jupyter notebook, everything goes in a **cell**, and there are three different types of cell.\n",
    "\n",
    "### Cell type: Raw"
   ]
  },
  {
   "cell_type": "raw",
   "id": "512c1076-f8a2-49f0-a7fb-7111f8a51e08",
   "metadata": {},
   "source": [
    "This is a raw format cell. It simply contains plain text and doesn't do anything special."
   ]
  },
  {
   "cell_type": "markdown",
   "id": "7f9b194f-ac73-48d8-b8ac-aeb8dae1ff72",
   "metadata": {},
   "source": [
    "### Cell type: Markdown"
   ]
  },
  {
   "cell_type": "markdown",
   "id": "7e2bf645-5bf9-4b10-bfad-f276e004f32e",
   "metadata": {
    "tags": []
   },
   "source": [
    "This is a [Markdown](https://www.markdownguide.org/getting-started/) cell. \n",
    "\n",
    "Markdown is a lightweight markup language for adding formatting elements to plaintext documents.   \n",
    "\n",
    "With Markdown, one can include [links](https://www.markdownguide.org), *italicise*, **embolden** and ~~strike through~~ text, `format code`,\n",
    "\n",
    "> create quotes,\n",
    "\n",
    "make a list:\n",
    "\n",
    "  - of\n",
    "  - various\n",
    "  - items\n",
    "  \n",
    "And more.\n",
    "\n",
    "**Double-click this cell** to inspect the raw content and see for yourself how the formatting is applied. **When you are done, press `Shift+Enter` to execute the cell** and render its contents with the Markdown engine.\n",
    "\n",
    "We will not be focusing on Markdown in this course, but it's a useful thing to know about as it tends to pop up here and there. You can always follow the link above if you are interested to learn more.   "
   ]
  },
  {
   "cell_type": "markdown",
   "id": "7b9121f1-3be4-49f6-a6b7-283600bc2d17",
   "metadata": {},
   "source": [
    "### Cell type: Code"
   ]
  },
  {
   "cell_type": "code",
   "execution_count": 1,
   "id": "55e4acd1-7a33-4041-8af1-fe18a3a80b79",
   "metadata": {},
   "outputs": [
    {
     "data": {
      "text/plain": [
       "3"
      ]
     },
     "execution_count": 1,
     "metadata": {},
     "output_type": "execute_result"
    }
   ],
   "source": [
    "# This is a code cell\n",
    "# It contains some Python code \n",
    "# Select the cell and press Shift+Enter to execute the code\n",
    "# Try changing the values assigned to a and b\n",
    "# See what happens when you run the code again\n",
    "\n",
    "a = 1\n",
    "b = 2\n",
    "a + b"
   ]
  },
  {
   "cell_type": "markdown",
   "id": "9287fd27-c710-49fb-8189-436ff3a71ed6",
   "metadata": {},
   "source": [
    "An easy way to create a new cell is by clicking the `+` button at the top of the page.\n",
    "\n",
    "Try creating a new cell below this one.\n",
    "\n",
    "**HINT:** Don't forget that if you accidentally double-clicked a Markdown cell, you can always re-render it with `Shift+Enter`.\n",
    "\n",
    "By default, a new cell is a code cell, but you can change the type by clicking the cell type drop down menu in the toolbar at the top of the page.\n",
    "\n",
    "---"
   ]
  },
  {
   "cell_type": "markdown",
   "id": "2a9c17aa-446c-4cde-82e3-c1ae04f6f7c9",
   "metadata": {},
   "source": [
    "## 3. Hello, World!\n",
    "\n",
    "Let's write some code.\n",
    "\n",
    "Hello-world is a simple program that is traditionally used to demonstrate the basic syntax of a language. The aim is to get the computer to print the words *Hello, World!* into the console. \n",
    "\n",
    "Here's how to write the *hello-world* program in Python. \n",
    "\n",
    "### Python\n",
    "```python\n",
    "print('Hello, World!')\n",
    "\n",
    "```\n",
    "\n",
    "That was easy! For comparison, here's how to write *hello-world* in some other well-known languages.\n",
    "\n",
    "### C\n",
    "```C\n",
    "#include <stdio.h>\n",
    "\n",
    "int main()\n",
    "{\n",
    "    printf(\"Hello, World!\\n\");\n",
    "}\n",
    "```\n",
    "\n",
    "### Java\n",
    "```java\n",
    "public class Main {\n",
    "  public static void main(String[] args) {\n",
    "    System.out.println(\"Hello, World!\");\n",
    "  }\n",
    "}\n",
    "```\n",
    "\n",
    "### Fortran\n",
    "```fortran\n",
    "program Hello\n",
    "  print *, \"Hello, World!\"\n",
    "end program Hello\n",
    "```\n",
    "\n",
    "Note that the Python syntax for *hello-world* is much more straightforward and intelligible than it is for other languages. This is usually the case with Python, and it is one of the main reasons that people find it such a pleasure to learn.\n",
    "\n",
    "Now go ahead and **write the *hello-world* program for Python in the code cell below (see above)**. When you have finished, **press `Shift+Enter` to execute the code**. If you did everything right, you should see the words *Hello, World!* printed out below your code."
   ]
  },
  {
   "cell_type": "code",
   "execution_count": 3,
   "id": "4089dcfb-f43a-4e32-9e72-d8c92a940d96",
   "metadata": {},
   "outputs": [],
   "source": [
    "# Write your hello world program in this cell\n",
    "\n"
   ]
  },
  {
   "cell_type": "markdown",
   "id": "0ec19c97",
   "metadata": {},
   "source": [
    "Congratulations! \n",
    "\n",
    "Now try adding another code cell below this one and instead of printing 'Hello, World!', print your own name, someone else's name, or whatever message you like!"
   ]
  },
  {
   "cell_type": "markdown",
   "id": "98677cae-ac1d-4252-a281-2a6d0be37d18",
   "metadata": {},
   "source": [
    "---\n",
    "## 4. Welcome to [Spyder](https://www.spyder-ide.org/)\n",
    "\n",
    "Let's move on to Spyder, a free and open-source scientific environment for Python. \n",
    "\n",
    "Spyder and Jupyter each have their unique features, but essentially they are just different places to write and run Python code. I will encourage you to spend time with both, but naturally you may develop a preference, which is absolutely fine.\n",
    "\n",
    "**Install and launch Spyder from the Anaconda Navigator** in the same way you did for Jupyter Notebook. When the application has launched, feel free to follow the tour. If you want to do the tour another time, click on `help > show tour` in the toolbar at the top of the screen.\n",
    "\n",
    "  1. Now, **click the open folder icon** in Spyder and open the `00_number_guessing_game.py` script\n",
    "  2. Run the script by clicking the green triangular `Run file` icon in the Spyder toolbar\n",
    "  3. Read through the script and try to figure out what its going to do\n",
    "  4. Shift your focus to the IPython console, where you should see the words `Enter any number:`\n",
    "  5. Type in a number and press `Enter`\n",
    "  6. Keep guessing until you get it right!\n",
    "  \n",
    "![](../images/spyder_gui.png)\n",
    "\n",
    "Congratulations, you just run a Python script in Spyder! Now try running the other two scripts:\n",
    "\n",
    "  1. `00_fahrenheit_to_celsius.py`\n",
    "  2. `00_check_prime_number.py`\n",
    "  "
   ]
  },
  {
   "cell_type": "markdown",
   "id": "4b3a2320",
   "metadata": {},
   "source": [
    "Great job! Next week we will dive into the syntax, data types and built-in functions of the Python programming language. Before then, please take the time to work through the `00_worksheet.ipynb`."
   ]
  }
 ],
 "metadata": {
  "kernelspec": {
   "display_name": "Python 3 (ipykernel)",
   "language": "python",
   "name": "python3"
  },
  "language_info": {
   "codemirror_mode": {
    "name": "ipython",
    "version": 3
   },
   "file_extension": ".py",
   "mimetype": "text/x-python",
   "name": "python",
   "nbconvert_exporter": "python",
   "pygments_lexer": "ipython3",
   "version": "3.9.13"
  }
 },
 "nbformat": 4,
 "nbformat_minor": 5
}
