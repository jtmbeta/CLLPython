{
 "cells": [
  {
   "cell_type": "markdown",
   "id": "b71554be",
   "metadata": {},
   "source": [
    "# Week 1 - Syntax, data types, and built-in functions\n",
    "\n",
    "Before we dive into the basics, let's remind ourselves that Python is an [object-oriented programming](https://en.wikipedia.org/wiki/Object-oriented_programming) language, and that virtually everything in Python is an \"object\" that bundles together some data and functionality. \n",
    "\n",
    "When used in a programming sense, the concept of an \"object\" is abstract. We can't physically reach out to the object, pick it up, and manipulate it in the same way that we might a pen or a pencil. But the abstraction make sense, because the objects of computer programs typically represent objects in the real world. \n",
    "\n",
    "To illustrate the point, let's make a `Pen` object and use it write \"Hello, World!\". "
   ]
  },
  {
   "cell_type": "code",
   "execution_count": 2,
   "id": "cd9d442f",
   "metadata": {},
   "outputs": [
    {
     "name": "stdout",
     "output_type": "stream",
     "text": [
      "Not enough ink!\n",
      "my_pen has 100 ink left\n"
     ]
    }
   ],
   "source": [
    "# Define the Pen class\n",
    "class Pen:\n",
    "    def __init__(self):\n",
    "        # Attribute to keep track of ink\n",
    "        self.ink_left = 100\n",
    "    \n",
    "    # Method for writing stuff\n",
    "    def write_something(self, what):\n",
    "        if len(what) > self.ink_left:\n",
    "            print(\"Not enough ink!\")\n",
    "        else:\n",
    "            print(what)\n",
    "            self.ink_left = self.ink_left - len(what)\n",
    "    \n",
    "# Create an instance of Pen\n",
    "my_pen = Pen()\n",
    "\n",
    "# Call the write_something method\n",
    "my_pen.write_something(what=\"Hello, World!\")\n",
    "\n",
    "# Check ink left\n",
    "print(f\"my_pen has {my_pen.ink_left} ink left\")"
   ]
  },
  {
   "cell_type": "markdown",
   "id": "acde348e",
   "metadata": {},
   "source": [
    "In the above, `class` is used to define a type of object called `Pen`, which has an `ink_left` *attribute* and a `write_something` *method*. We then create an *instance* of `Pen` and use `write_something` to print the message \"Hello, World!\". Every time `write_something` is called, the ink gets depleted, and if there isn't enough ink to write the message, the program will let us know. \n",
    "\n",
    "This is a glimpse into Python's `class` mechanism, which is what provides the object-oriented features to the language. However, Python does not enforce the object-oriented style, which means that for now we need not worry about `class`, `__init__`, `self`, etc."
   ]
  },
  {
   "cell_type": "markdown",
   "id": "894211a1-8e1a-4a56-bca5-ac3fec406bb7",
   "metadata": {},
   "source": [
    "## 1. Syntax\n",
    "\n",
    "In the context of programming languages, *syntax* refers to the rules that govern the structure of statements and expressions. \n",
    "\n",
    "One of Python's most attractive features is its clear, concise and readable syntax. We will learn more about this continuously throughout the course, but for now let's explore some of the main components. \n",
    "\n",
    "### 1.1 Comments\n",
    "\n",
    "Comments are bits of text that exist inside your code, but which do not get evaluated when the code is executed. You can use them to explain or annotate a piece of code that you have written, so when you (or another developer) reads it at a later stage it will be clear what the code is doing, or why it was written in that particular way. \n",
    "\n",
    "In Python, comments are written by putting a `#` (hash) symbol before the comment text. Anything that comes after a `#` on a particular line of code is ignored."
   ]
  },
  {
   "cell_type": "code",
   "execution_count": 3,
   "id": "5abebb9b-2c58-469b-a0be-39b486b55eed",
   "metadata": {},
   "outputs": [],
   "source": [
    "# This is a single line comment\n"
   ]
  },
  {
   "cell_type": "code",
   "execution_count": 4,
   "id": "f11449b5-e4fe-457a-b831-be9edeb8462f",
   "metadata": {},
   "outputs": [],
   "source": [
    "name = \"Fred\"  # This is an inline comment"
   ]
  },
  {
   "cell_type": "code",
   "execution_count": 8,
   "id": "f5d74a51-90de-4383-a8a8-9c53482a852d",
   "metadata": {},
   "outputs": [],
   "source": [
    "# This is a multiline comment\n",
    "# that requires more than one line\n",
    "# for it to be complete\n"
   ]
  },
  {
   "cell_type": "markdown",
   "id": "53f6121c-e937-483a-920b-8408a7cada51",
   "metadata": {},
   "source": [
    "Remember the `\"Hello, World!\"` program from last week? Here it is again with a single line comment to explain what it does. "
   ]
  },
  {
   "cell_type": "code",
   "execution_count": 27,
   "id": "6a6715f6-ae74-4c40-8fc6-c76bb9322bf4",
   "metadata": {},
   "outputs": [
    {
     "name": "stdout",
     "output_type": "stream",
     "text": [
      "Hello, world!\n"
     ]
    }
   ],
   "source": [
    "# Print the text \"Hello, World!\" to the console\n",
    "print(\"Hello, world!\")\n"
   ]
  },
  {
   "cell_type": "markdown",
   "id": "4151a2cd-3209-44c7-a2df-5dfa70708b22",
   "metadata": {},
   "source": [
    "Always comment your code, preferably with plain and succinct language. Your colleagues and your future self will be thankful!"
   ]
  },
  {
   "cell_type": "markdown",
   "id": "fbe5b5ce-a6b1-4838-ab74-7e3b3ba1a2b0",
   "metadata": {},
   "source": [
    "### 1.2 Variables\n",
    "\n",
    "In Python, variables are essentially names attached to objects. \n",
    "\n",
    "To put it more accurately, Python variables hold a reference or \"pointer\" to an address in computer memory where an object is stored, but it isn't particularly helpful to think of variables in this way when learning the language.\n",
    "\n",
    "Just think of variables as \"names for objects\" or \"boxes to put things in\" and you won't go far wrong.\n",
    "\n",
    "Values are assigned to variables using the `=` (equals) operator. The value goes on the right, and the variable name goes on the left.\n",
    "\n",
    "`<variable_name> = <value>`\n"
   ]
  },
  {
   "cell_type": "code",
   "execution_count": 6,
   "id": "959a9449-389f-4144-897c-73dd089f97a4",
   "metadata": {},
   "outputs": [
    {
     "name": "stdout",
     "output_type": "stream",
     "text": [
      "His name is Dave Jones and he is 42 years old\n"
     ]
    }
   ],
   "source": [
    "# Assign the value \"Fred\" to the variable \"first_name\"\n",
    "first_name = \"Fred\"\n",
    "\n",
    "# Assign the value \"Jones\" to the variable 'second_name'\n",
    "second_name = \"Jones\"\n",
    "\n",
    "# Assign the value 42 to the variable 'age'\n",
    "age = 42\n",
    "\n",
    "# Print out his full name and age\n",
    "print(f\"His name is {first_name} {second_name} and he is {age} years old\")"
   ]
  },
  {
   "cell_type": "markdown",
   "id": "5cb28967-4e9a-4001-946d-7421d80e0578",
   "metadata": {},
   "source": [
    "Variable names should be descriptive enough to allow another person reading your code to have a guess at the type of data the variable contains, so think carefully before putting a name to a variable! In the above code, `first_name` and `second_name` are good descriptive variable names, and it would not be surprising to find out their values are \"Fred\" and \"Jones\".\n",
    "\n",
    "When naming variables, you can use uppercase `[A-Z]` and lower case `[a-z]` letters, digits `[0-9]`, and the `_` character, but **variable names can not start with a digit!** See what happens if you run the code below.\n"
   ]
  },
  {
   "cell_type": "code",
   "execution_count": 7,
   "id": "84fdb71b-b35a-4b51-92c3-0e103c10574f",
   "metadata": {},
   "outputs": [
    {
     "name": "stdout",
     "output_type": "stream",
     "text": [
      "something\n"
     ]
    }
   ],
   "source": [
    "Variable_Name_123 = \"something\"  # A valid variable name\n",
    "print(Variable_Name_123)"
   ]
  },
  {
   "cell_type": "code",
   "execution_count": 8,
   "id": "f786831c-4b43-48f3-9f17-674b1df3f559",
   "metadata": {},
   "outputs": [
    {
     "ename": "SyntaxError",
     "evalue": "invalid decimal literal (3221108259.py, line 1)",
     "output_type": "error",
     "traceback": [
      "\u001b[0;36m  Input \u001b[0;32mIn [8]\u001b[0;36m\u001b[0m\n\u001b[0;31m    123_Variable_Name = \"something else\"  # Not a valid variable name\u001b[0m\n\u001b[0m       ^\u001b[0m\n\u001b[0;31mSyntaxError\u001b[0m\u001b[0;31m:\u001b[0m invalid decimal literal\n"
     ]
    }
   ],
   "source": [
    "123_Variable_Name = \"something else\"  # Not a valid variable name\n",
    "print(123_Variable_Name)"
   ]
  },
  {
   "cell_type": "markdown",
   "id": "a9b95903-6cfd-426f-8b35-a30f0dfbb5ca",
   "metadata": {},
   "source": [
    "We get a `SyntaxError`, because we violated Python's syntax rules by attempting to use digits at the start of a variable name. Errors like this can be daunting, but learning to interpret them is a key aspect of developing your Python programming abilities. When I see an error I don't understand, the first thing I do is Google it. In this case, I Googled \"*SyntaxError: invalid decimal literal*\", and [the first search result](https://bobbyhadz.com/blog/python-syntaxerror-invalid-decimal-literal) explained everything!\n",
    "\n",
    "Note that using **`lower_case_with_underscore`** variable names (sometimes called \"[snake_case](https://en.wikipedia.org/wiki/Snake_case)\") is a widely adopted standard in Python. You don't have to name your variables in this style, but I personally find it more clean and readable than alternate naming conventions (e.g., \"[CamelCase](https://en.wikipedia.org/wiki/Camel_case)\"). For more guidelines and recommendations on coding style in Python, [PEP8](https://peps.python.org/pep-0008/) is the definitive source. \n",
    "\n",
    "A final note on variable names... They are case sensitive! So, `txt`, `Txt` and `TXT` can each be used as variable names for different values."
   ]
  },
  {
   "cell_type": "code",
   "execution_count": 9,
   "id": "cc15db6e",
   "metadata": {},
   "outputs": [
    {
     "name": "stdout",
     "output_type": "stream",
     "text": [
      "One Two Three\n"
     ]
    }
   ],
   "source": [
    "txt = 'One'\n",
    "Txt = 'Two'\n",
    "TXT = 'Three'\n",
    "print(txt, Txt, TXT)"
   ]
  },
  {
   "cell_type": "markdown",
   "id": "aee6551d-b7b4-4e2a-ad2c-ea0f859fc621",
   "metadata": {},
   "source": [
    "### 1.3 Keywords\n",
    "\n",
    "Python has a set of keywords which have their own specific purpose or meaning within the language. They can not be used as variable names, function names, or as any other form of identifier.\n",
    "\n",
    "We can get get a list of the available keywords by typing:\n"
   ]
  },
  {
   "cell_type": "code",
   "execution_count": 11,
   "id": "4cd2af85-6d8b-4180-9541-2d3542e82c1d",
   "metadata": {},
   "outputs": [
    {
     "name": "stdout",
     "output_type": "stream",
     "text": [
      "\n",
      "Here is a list of the Python keywords.  Enter any keyword to get more help.\n",
      "\n",
      "False               break               for                 not\n",
      "None                class               from                or\n",
      "True                continue            global              pass\n",
      "__peg_parser__      def                 if                  raise\n",
      "and                 del                 import              return\n",
      "as                  elif                in                  try\n",
      "assert              else                is                  while\n",
      "async               except              lambda              with\n",
      "await               finally             nonlocal            yield\n",
      "\n"
     ]
    }
   ],
   "source": [
    "help(\"keywords\")"
   ]
  },
  {
   "cell_type": "markdown",
   "id": "9f3a6028-394b-42cf-bde3-fe3c82e5e953",
   "metadata": {},
   "source": [
    "Incidentally, we have just introduced one of the most important functions in the Python programming language: `help()`. \n",
    "\n",
    "`help()` will retrieve and print any available documentation for whichever *object* is passed to it. For example, if I wanted to learn more about the `print` statement, I could say:"
   ]
  },
  {
   "cell_type": "code",
   "execution_count": 16,
   "id": "c6d64b0d-5e8b-4eb3-bbc2-608cb6ea32af",
   "metadata": {},
   "outputs": [
    {
     "name": "stdout",
     "output_type": "stream",
     "text": [
      "Help on built-in function print in module builtins:\n",
      "\n",
      "print(...)\n",
      "    print(value, ..., sep=' ', end='\\n', file=sys.stdout, flush=False)\n",
      "    \n",
      "    Prints the values to a stream, or to sys.stdout by default.\n",
      "    Optional keyword arguments:\n",
      "    file:  a file-like object (stream); defaults to the current sys.stdout.\n",
      "    sep:   string inserted between values, default a space.\n",
      "    end:   string appended after the last value, default a newline.\n",
      "    flush: whether to forcibly flush the stream.\n",
      "\n"
     ]
    }
   ],
   "source": [
    "help(print)"
   ]
  },
  {
   "cell_type": "markdown",
   "id": "1c994203-b251-4652-ad0e-5b8ad606e66d",
   "metadata": {},
   "source": [
    "In this course we will encounter many, but not all, of Python's keywords. For now, you could try asking for help on the keywords that were emboldened in the presentation slides. For example:"
   ]
  },
  {
   "cell_type": "code",
   "execution_count": 69,
   "id": "63c83feb-eb0c-4719-8c31-3d9a1784a514",
   "metadata": {},
   "outputs": [
    {
     "name": "stdout",
     "output_type": "stream",
     "text": [
      "The \"if\" statement\n",
      "******************\n",
      "\n",
      "The \"if\" statement is used for conditional execution:\n",
      "\n",
      "   if_stmt ::= \"if\" assignment_expression \":\" suite\n",
      "               (\"elif\" assignment_expression \":\" suite)*\n",
      "               [\"else\" \":\" suite]\n",
      "\n",
      "It selects exactly one of the suites by evaluating the expressions one\n",
      "by one until one is found to be true (see section Boolean operations\n",
      "for the definition of true and false); then that suite is executed\n",
      "(and no other part of the \"if\" statement is executed or evaluated).\n",
      "If all expressions are false, the suite of the \"else\" clause, if\n",
      "present, is executed.\n",
      "\n",
      "Related help topics: TRUTHVALUE\n",
      "\n"
     ]
    }
   ],
   "source": [
    "help('if')"
   ]
  },
  {
   "cell_type": "markdown",
   "id": "e6fdfbd1",
   "metadata": {},
   "source": [
    "Note that if you call `help()` without any arguments, you may find yourself in an *interactive* help session, which you can exit by typing `quit` and hitting `Enter`."
   ]
  },
  {
   "cell_type": "markdown",
   "id": "164e8dc0-a867-4bd2-9e06-b6611e42480e",
   "metadata": {
    "tags": []
   },
   "source": [
    "### 1.4 Lines, indentation, and whitespace\n",
    "\n",
    "Many computer languages don't care about whitespace, but Python does!\n",
    "\n",
    "In Python, whitespace is part of the syntax. Programs are initially divided into logical lines, and the whitespace is then used by the Python interpreter to parse code into syntactic blocks. \n",
    "\n",
    "For example, when writing a loop or defining a function, one must indent subsequent lines with 4 spaces (a `Tab` may also be used, but this is generally discouraged). "
   ]
  },
  {
   "cell_type": "code",
   "execution_count": 17,
   "id": "8615945d",
   "metadata": {},
   "outputs": [
    {
     "name": "stdout",
     "output_type": "stream",
     "text": [
      "The world is round\n"
     ]
    }
   ],
   "source": [
    "world_is_round = True\n",
    "\n",
    "if world_is_round:\n",
    "    # 4 spaces indentation\n",
    "    print(\"The world is round\")"
   ]
  },
  {
   "cell_type": "markdown",
   "id": "c6a4238c",
   "metadata": {},
   "source": [
    "If we repeat this code without the indentation, we get an `IndentationError`"
   ]
  },
  {
   "cell_type": "code",
   "execution_count": 19,
   "id": "1ef8388e",
   "metadata": {},
   "outputs": [
    {
     "ename": "IndentationError",
     "evalue": "expected an indented block (1651706928.py, line 4)",
     "output_type": "error",
     "traceback": [
      "\u001b[0;36m  Input \u001b[0;32mIn [19]\u001b[0;36m\u001b[0m\n\u001b[0;31m    print(\"The world is round\")\u001b[0m\n\u001b[0m    ^\u001b[0m\n\u001b[0;31mIndentationError\u001b[0m\u001b[0;31m:\u001b[0m expected an indented block\n"
     ]
    }
   ],
   "source": [
    "world_is_round = True\n",
    "\n",
    "if world_is_round:\n",
    "print(\"The world is round\")"
   ]
  },
  {
   "cell_type": "markdown",
   "id": "24fc06e4",
   "metadata": {},
   "source": [
    "Note that whitespace within a line is ignored."
   ]
  },
  {
   "cell_type": "code",
   "execution_count": 20,
   "id": "5f6dd5bd",
   "metadata": {},
   "outputs": [
    {
     "name": "stdout",
     "output_type": "stream",
     "text": [
      "The world is round\n"
     ]
    }
   ],
   "source": [
    "world_is_round =      True\n",
    "\n",
    "if    world_is_round   :\n",
    "    print(     \"The world is round\"  )"
   ]
  },
  {
   "cell_type": "markdown",
   "id": "26ad0102",
   "metadata": {},
   "source": [
    "But you should never use whitespace like this as it makes the code hard to read. [PEP8](https://peps.python.org/pep-0008/) has recommendations on what it considers to be the correct use of whitespace. The take-home message? Use it sparingly and in a consistent manner. "
   ]
  },
  {
   "cell_type": "markdown",
   "id": "2873e1cc-dbe4-4f4f-9659-2f801755e277",
   "metadata": {},
   "source": [
    "## 2. Built-in data types\n",
    "\n",
    "We already know that everything in Python is an object. Now, consider that **every object has a type**. \n",
    "\n",
    "Python has a range of built-in data types, but some are more common than others. For now we will focus on numbers (`int`, `float`), booleans (`True`, `False`), sequences (`str`, `list`, `tuple`), and dictionaries (`dict`).\n",
    "\n",
    "**N.B.** The type of an object can always be revealed using Python's built-in `type()` function."
   ]
  },
  {
   "cell_type": "markdown",
   "id": "c11d7bdb-b65f-4c6a-ad0c-b7f0dd9d830c",
   "metadata": {
    "tags": []
   },
   "source": [
    "### 2.1 Numbers\n",
    "\n",
    "Python distinguishes between three types of number: integer, floating point, and complex. We will focus on integers and floating points (because [complex numbers are complex](https://en.wikipedia.org/wiki/Complex_number) and I don't know much about them)!\n",
    "\n",
    "Integers (e.g., `42`, `36`, `-5`) are whole numbers, and have type `int`."
   ]
  },
  {
   "cell_type": "code",
   "execution_count": 26,
   "id": "1a8496fe",
   "metadata": {},
   "outputs": [
    {
     "name": "stdout",
     "output_type": "stream",
     "text": [
      "The type of num_int is <class 'int'>\n",
      "The value of num_int is 42\n"
     ]
    }
   ],
   "source": [
    "# Integer\n",
    "num_int = 42\n",
    "\n",
    "print(f\"The type of num_int is {type(num_int)}\")\n",
    "print(f\"The value of num_int is {num_int}\")\n"
   ]
  },
  {
   "cell_type": "markdown",
   "id": "0ddd4cc0",
   "metadata": {},
   "source": [
    "Floating point numbers (e.g., `3.142`, `365.25`, `-.06`) are numbers with a fractional component, and have the type `float`."
   ]
  },
  {
   "cell_type": "code",
   "execution_count": 23,
   "id": "37cea655",
   "metadata": {},
   "outputs": [
    {
     "name": "stdout",
     "output_type": "stream",
     "text": [
      "The type of num_float is <class 'float'>\n",
      "The value of num_float is 365.25\n"
     ]
    }
   ],
   "source": [
    "# Float\n",
    "num_float = 365.25\n",
    "\n",
    "print(f\"The type of num_float is {type(num_float)}\")\n",
    "print(f\"The value of num_float is {num_float}\")"
   ]
  },
  {
   "cell_type": "markdown",
   "id": "63b27af0",
   "metadata": {},
   "source": [
    "We can use the `int()` and `float()` functions to convert specified values to the respective type."
   ]
  },
  {
   "cell_type": "code",
   "execution_count": 24,
   "id": "e7e5bf31-f56d-4104-a6ea-6b620122ec3a",
   "metadata": {},
   "outputs": [
    {
     "data": {
      "text/plain": [
       "365"
      ]
     },
     "execution_count": 24,
     "metadata": {},
     "output_type": "execute_result"
    }
   ],
   "source": [
    "int(num_float)"
   ]
  },
  {
   "cell_type": "code",
   "execution_count": 27,
   "id": "aede243a-c974-4fd3-ba8d-d10bd21c3e0e",
   "metadata": {},
   "outputs": [
    {
     "data": {
      "text/plain": [
       "42.0"
      ]
     },
     "execution_count": 27,
     "metadata": {},
     "output_type": "execute_result"
    }
   ],
   "source": [
    "float(num_int)"
   ]
  },
  {
   "cell_type": "markdown",
   "id": "085e7a33-138a-44c6-8652-0fc4466b3a42",
   "metadata": {},
   "source": [
    "And we can even convert string representations of numbers."
   ]
  },
  {
   "cell_type": "code",
   "execution_count": 9,
   "id": "92eee050-05d7-43a7-b2fd-d87210884953",
   "metadata": {},
   "outputs": [
    {
     "data": {
      "text/plain": [
       "42"
      ]
     },
     "execution_count": 9,
     "metadata": {},
     "output_type": "execute_result"
    }
   ],
   "source": [
    "int('42')"
   ]
  },
  {
   "cell_type": "code",
   "execution_count": 28,
   "id": "46875db2-9945-4713-9c69-4b7606539b99",
   "metadata": {},
   "outputs": [
    {
     "data": {
      "text/plain": [
       "365.25"
      ]
     },
     "execution_count": 28,
     "metadata": {},
     "output_type": "execute_result"
    }
   ],
   "source": [
    "float('365.25')"
   ]
  },
  {
   "cell_type": "markdown",
   "id": "f5a7a14e-5b04-42ee-b847-34a100bc35fa",
   "metadata": {},
   "source": [
    "At a very basic level, Python functions as a calculator. Addition, subtraction, multiplication and division are accomplished with the `+`, `-`, `*` and `/` symbols, known as *operators*."
   ]
  },
  {
   "cell_type": "code",
   "execution_count": 11,
   "id": "0efe17fe-b641-4082-9cc4-73aab0325d15",
   "metadata": {},
   "outputs": [
    {
     "data": {
      "text/plain": [
       "14"
      ]
     },
     "execution_count": 11,
     "metadata": {},
     "output_type": "execute_result"
    }
   ],
   "source": [
    "5 + 9"
   ]
  },
  {
   "cell_type": "code",
   "execution_count": 12,
   "id": "1eb5ebf0-cb85-41f5-9628-4c89e999ee39",
   "metadata": {},
   "outputs": [
    {
     "data": {
      "text/plain": [
       "5"
      ]
     },
     "execution_count": 12,
     "metadata": {},
     "output_type": "execute_result"
    }
   ],
   "source": [
    "10 - 5"
   ]
  },
  {
   "cell_type": "code",
   "execution_count": 13,
   "id": "b8e16c65-5a90-4d63-b463-909b5ff14ec4",
   "metadata": {},
   "outputs": [
    {
     "data": {
      "text/plain": [
       "4"
      ]
     },
     "execution_count": 13,
     "metadata": {},
     "output_type": "execute_result"
    }
   ],
   "source": [
    "2 * 2"
   ]
  },
  {
   "cell_type": "code",
   "execution_count": 14,
   "id": "d6d18427-c2b8-4202-add7-f95dd46107fc",
   "metadata": {},
   "outputs": [
    {
     "data": {
      "text/plain": [
       "2.0"
      ]
     },
     "execution_count": 14,
     "metadata": {},
     "output_type": "execute_result"
    }
   ],
   "source": [
    "10 / 5"
   ]
  },
  {
   "cell_type": "markdown",
   "id": "b8bfa4ae-1e09-42f9-88ae-43384e1745e5",
   "metadata": {},
   "source": [
    "We can also calculate the power of a number using the `**` (double asterix) operator."
   ]
  },
  {
   "cell_type": "code",
   "execution_count": 31,
   "id": "f760eb7a-f566-4f40-8d90-129413371870",
   "metadata": {},
   "outputs": [
    {
     "data": {
      "text/plain": [
       "16"
      ]
     },
     "execution_count": 31,
     "metadata": {},
     "output_type": "execute_result"
    }
   ],
   "source": [
    "2 ** 4"
   ]
  },
  {
   "cell_type": "markdown",
   "id": "231c5d03-ee8e-4d13-a4d9-b419026ac7f4",
   "metadata": {
    "tags": []
   },
   "source": [
    "### 2.2 Booleans\n",
    "\n",
    "The `boole` data type, named after [George Boole (1815-1864)](https://en.wikipedia.org/wiki/George_Boole), has two possible values: `True` and `False`. "
   ]
  },
  {
   "cell_type": "code",
   "execution_count": 32,
   "id": "c23025cf-b9cd-4fb6-a46c-387ae64311cb",
   "metadata": {},
   "outputs": [
    {
     "data": {
      "text/plain": [
       "bool"
      ]
     },
     "execution_count": 32,
     "metadata": {},
     "output_type": "execute_result"
    }
   ],
   "source": [
    "type(False)"
   ]
  },
  {
   "cell_type": "code",
   "execution_count": 33,
   "id": "97a18e57-5ad0-4d9f-aa2c-2e8a345ecb55",
   "metadata": {},
   "outputs": [
    {
     "data": {
      "text/plain": [
       "bool"
      ]
     },
     "execution_count": 33,
     "metadata": {},
     "output_type": "execute_result"
    }
   ],
   "source": [
    "type(True)"
   ]
  },
  {
   "cell_type": "markdown",
   "id": "9a9b92e9-a32c-4d06-bce2-7cb235c4c8ea",
   "metadata": {},
   "source": [
    "Booleans are used to represent the truth of an expression in conditional statements."
   ]
  },
  {
   "cell_type": "code",
   "execution_count": 34,
   "id": "dfe05977",
   "metadata": {},
   "outputs": [
    {
     "name": "stdout",
     "output_type": "stream",
     "text": [
      "The world is round\n"
     ]
    }
   ],
   "source": [
    "world_is_round = True  # Boolean expression\n",
    "\n",
    "if world_is_round:  # Conditional statement\n",
    "    print(\"The world is round\")  # Executed only if expression is True\n"
   ]
  },
  {
   "cell_type": "markdown",
   "id": "da0ed46c-3b23-4308-ad64-1a48f480a75c",
   "metadata": {},
   "source": [
    "What will happen when you run the cell below? Give it a try!"
   ]
  },
  {
   "cell_type": "code",
   "execution_count": 4,
   "id": "a002344a-4bb2-4b09-af36-f6cb2aef74a2",
   "metadata": {},
   "outputs": [],
   "source": [
    "world_is_flat = False\n",
    "\n",
    "if world_is_flat:\n",
    "    print(\"The world is flat\")\n"
   ]
  },
  {
   "cell_type": "markdown",
   "id": "245672dc-2506-4a4d-844c-420977c0c861",
   "metadata": {},
   "source": [
    "The Booelean operators `and`, `or`, and `not`, can be used to form conditional statements (more on this next week). "
   ]
  },
  {
   "cell_type": "code",
   "execution_count": 35,
   "id": "5aa4da14-3603-4257-979b-8788f1d5d087",
   "metadata": {},
   "outputs": [
    {
     "name": "stdout",
     "output_type": "stream",
     "text": [
      "Cake is yummy, life is good, the world is round\n",
      "The world is flat or cake is yummy (at least one is true)\n",
      "The world is not flat\n"
     ]
    }
   ],
   "source": [
    "# Some Boolean expressions\n",
    "world_is_round = True\n",
    "world_is_flat = False\n",
    "cake_is_yummy = True\n",
    "life_is_good = True\n",
    "\n",
    "# The 'and' (&) operator returns True if all operands evaluate as True\n",
    "if cake_is_yummy and life_is_good and world_is_round:\n",
    "    print(\"Cake is yummy, life is good, the world is round\")\n",
    "\n",
    "# The 'or' (|) operator returns True if at least \n",
    "# one of the operands evaluates as True\n",
    "if world_is_flat or cake_is_yummy:\n",
    "    print(\"The world is flat or cake is yummy (at least one is true)\")\n",
    "\n",
    "# The 'not' (~) operator returns True if its operand evaluates as False,\n",
    "# otherwise it returns False\n",
    "if not world_is_flat:\n",
    "    print(\"The world is not flat\")"
   ]
  },
  {
   "cell_type": "markdown",
   "id": "cc6f40da",
   "metadata": {},
   "source": [
    "Interestingly, `boole` is a subclass of `int`, which means `True` and `False` behave as integers in an arithmetic sense. "
   ]
  },
  {
   "cell_type": "code",
   "execution_count": 39,
   "id": "905b4465",
   "metadata": {},
   "outputs": [
    {
     "data": {
      "text/plain": [
       "2"
      ]
     },
     "execution_count": 39,
     "metadata": {},
     "output_type": "execute_result"
    }
   ],
   "source": [
    "True + True"
   ]
  },
  {
   "cell_type": "code",
   "execution_count": 40,
   "id": "96d8bf95-e027-4cfd-a85b-2bc8f4edebe2",
   "metadata": {},
   "outputs": [
    {
     "data": {
      "text/plain": [
       "5.0"
      ]
     },
     "execution_count": 40,
     "metadata": {},
     "output_type": "execute_result"
    }
   ],
   "source": [
    "(True * 10) / (True + True)"
   ]
  },
  {
   "cell_type": "markdown",
   "id": "e98e868b-cd8b-4eb3-b853-1ef8f1e991d3",
   "metadata": {},
   "source": [
    "This means that you can use `0` and `1` in place of `False` and `True`."
   ]
  },
  {
   "cell_type": "code",
   "execution_count": 44,
   "id": "54fae3df-c13e-446b-acf3-a4c60addf08a",
   "metadata": {},
   "outputs": [
    {
     "name": "stdout",
     "output_type": "stream",
     "text": [
      "This will get printed\n"
     ]
    }
   ],
   "source": [
    "if 0:  # False\n",
    "    print('This will not get printed')\n",
    "\n",
    "if 1:  # True\n",
    "    print('This will get printed')"
   ]
  },
  {
   "cell_type": "markdown",
   "id": "f11bbee4-e678-4427-8a15-555d7447d299",
   "metadata": {},
   "source": [
    "### 2.3 Strings\n",
    "\n",
    "Besides numbers, Python can manipulate strings, which are sequences of values represented by [Unicode](https://home.unicode.org/) points. \n"
   ]
  },
  {
   "cell_type": "code",
   "execution_count": 45,
   "id": "d2fa64d6-03e0-4fad-9065-321a56039ee6",
   "metadata": {},
   "outputs": [
    {
     "data": {
      "text/plain": [
       "str"
      ]
     },
     "execution_count": 45,
     "metadata": {},
     "output_type": "execute_result"
    }
   ],
   "source": [
    "my_string = 'something'\n",
    "type(my_string)"
   ]
  },
  {
   "cell_type": "markdown",
   "id": "e3816f3c-89c2-4028-bc00-4fafedc67c21",
   "metadata": {},
   "source": [
    "Strings can be enclosed in single quotes (`'...'`) or double quotes (`\"...\"`) with the same result. Once a string has been created, it can not be manipulated, which is to say that **strings are immutable**."
   ]
  },
  {
   "cell_type": "code",
   "execution_count": 46,
   "id": "a13bab86-4604-4e57-9549-60835267baed",
   "metadata": {},
   "outputs": [
    {
     "name": "stdout",
     "output_type": "stream",
     "text": [
      "Fred\n",
      "Fred\n"
     ]
    }
   ],
   "source": [
    "print('Fred')\n",
    "print(\"Fred\")"
   ]
  },
  {
   "cell_type": "markdown",
   "id": "7bde217f-86e8-463c-8ed9-c6b6d123b9c9",
   "metadata": {},
   "source": [
    "It is also possible to use the `\\` (backslash) character to *escape* quotes that are needed within a string."
   ]
  },
  {
   "cell_type": "code",
   "execution_count": 47,
   "id": "4cf5fac7-9fa2-445f-a2ad-6c7b504b6df6",
   "metadata": {},
   "outputs": [
    {
     "ename": "SyntaxError",
     "evalue": "invalid syntax (898286851.py, line 1)",
     "output_type": "error",
     "traceback": [
      "\u001b[0;36m  Input \u001b[0;32mIn [47]\u001b[0;36m\u001b[0m\n\u001b[0;31m    print(\"\"Python\" is Fred's favourite word.\")\u001b[0m\n\u001b[0m            ^\u001b[0m\n\u001b[0;31mSyntaxError\u001b[0m\u001b[0;31m:\u001b[0m invalid syntax\n"
     ]
    }
   ],
   "source": [
    "print(\"\\\"Python\\\" is Fred\\'s favourite word.\")"
   ]
  },
  {
   "cell_type": "markdown",
   "id": "6da100ee-6d17-4812-b709-855fed5cfa7d",
   "metadata": {},
   "source": [
    "In fact, there are quite a few more special characters involving the backslash. The ones in bold are worth remembering.\n",
    "\n",
    "  - **`\\n` - Newline**\n",
    "  - **`\\t` - Horizontal tab**\n",
    "  - `\\r` - Carriage return\n",
    "  - `\\b` - Backspace\n",
    "  - `\\f` - Form feed\n",
    "  - **`\\'` - Single quote**\n",
    "  - **`\\\"` - Double quote**\n",
    "  - **`\\\\` - Backslash**\n",
    "  - `\\v` - Vertical tab\n",
    "  - **`\\N` - N is the number for Unicode character**\n",
    "  - `\\NNN` - NNN is digits for Octal value\n",
    "  - `\\xNN` - NN is a hex value; \\x is used to denote following is a hex value.\n",
    "  - `\\a` - Bell sound, actually default chime"
   ]
  },
  {
   "cell_type": "markdown",
   "id": "87efe787-d5c6-4b80-9ea3-4eb6200244d5",
   "metadata": {},
   "source": [
    "`\\n` and `\\t` are useful as they enable you to include new lines and tabs in a string."
   ]
  },
  {
   "cell_type": "code",
   "execution_count": 48,
   "id": "17767b93-d4f7-4b55-aabb-2add24d69b16",
   "metadata": {},
   "outputs": [
    {
     "name": "stdout",
     "output_type": "stream",
     "text": [
      "TODO:\n",
      "\t1. Clean kitchen\n",
      "\t2. Post letter\n",
      "\t3. Hang out washing\n"
     ]
    }
   ],
   "source": [
    "print('TODO:\\n\\t1. Clean kitchen\\n\\t2. Post letter\\n\\t3. Hang out washing')"
   ]
  },
  {
   "cell_type": "markdown",
   "id": "569ca374-c0cd-4df0-ae35-9bfa38d2a544",
   "metadata": {},
   "source": [
    "And there is much fun to be had with [Unicode](https://home.unicode.org/)! I started learning Greek a few years back. Here's one of my favorite Greek proverbs."
   ]
  },
  {
   "cell_type": "code",
   "execution_count": 49,
   "id": "59873da8-21d8-4847-9267-c75bf54b83f9",
   "metadata": {},
   "outputs": [
    {
     "name": "stdout",
     "output_type": "stream",
     "text": [
      "Τα πολλά λόγια είναι φτώχια\n"
     ]
    }
   ],
   "source": [
    "# Actions speak louder than words!\n",
    "print('\\u03A4\\u03B1 \\u03C0\\u03BF\\u03BB\\u03BB\\u03AC \\u03BB\\u03CC\\u03B3\\u03B9\\u03B1 \\u03B5\\u03AF\\u03BD\\u03B1\\u03B9 \\u03C6\\u03C4\\u03CE\\u03C7\\u03B9\\u03B1') "
   ]
  },
  {
   "cell_type": "markdown",
   "id": "4af012f7-f0ef-4b54-8457-6fadae2e55be",
   "metadata": {},
   "source": [
    "We can also print emojis. Here's 100 snakes!"
   ]
  },
  {
   "cell_type": "code",
   "execution_count": 71,
   "id": "b8dc0a91-8b7d-45f1-9cc6-654daa61145f",
   "metadata": {},
   "outputs": [
    {
     "name": "stdout",
     "output_type": "stream",
     "text": [
      "🐍🐍🐍🐍🐍🐍🐍🐍🐍🐍🐍🐍🐍🐍🐍🐍🐍🐍🐍🐍🐍🐍🐍🐍🐍🐍🐍🐍🐍🐍🐍🐍🐍🐍🐍🐍🐍🐍🐍🐍🐍🐍🐍🐍🐍🐍🐍🐍🐍🐍🐍🐍🐍🐍🐍🐍🐍🐍🐍🐍🐍🐍🐍🐍🐍🐍🐍🐍🐍🐍🐍🐍🐍🐍🐍🐍🐍🐍🐍🐍🐍🐍🐍🐍🐍🐍🐍🐍🐍🐍🐍🐍🐍🐍🐍🐍🐍🐍🐍🐍\n"
     ]
    }
   ],
   "source": [
    "print('\\U0001F40D'*100)"
   ]
  },
  {
   "cell_type": "code",
   "execution_count": 66,
   "id": "3e393f36-9d59-4e3c-b3e4-f844820a62ab",
   "metadata": {},
   "outputs": [
    {
     "name": "stdout",
     "output_type": "stream",
     "text": [
      "🙂\n"
     ]
    }
   ],
   "source": [
    "print('\\U0001F642')"
   ]
  },
  {
   "cell_type": "markdown",
   "id": "1a0a102b-4f7b-44c5-9426-3beb62458ecf",
   "metadata": {},
   "source": [
    "Let's move on... Strings have many useful methods that can be accessed via Python's dot notation. For example, the `.upper()` method will convert all characters to their upper case."
   ]
  },
  {
   "cell_type": "code",
   "execution_count": 50,
   "id": "7bc0dce7-0b17-4f62-9ea5-b1a59d4a7c71",
   "metadata": {},
   "outputs": [
    {
     "name": "stdout",
     "output_type": "stream",
     "text": [
      "urgent: this message requires your attention\n",
      "URGENT: THIS MESSAGE REQUIRES YOUR ATTENTION\n"
     ]
    }
   ],
   "source": [
    "msg = \"urgent: this message requires your attention\"\n",
    "print(msg)\n",
    "print(msg.upper())"
   ]
  },
  {
   "cell_type": "markdown",
   "id": "26dca198-36b8-476e-b790-f961ff5ac734",
   "metadata": {},
   "source": [
    "As with all Python objects, we can see what methods are available by typing a `.` after the variable and pressing `tab`. Then, if you want to learn more about a particular method, you can use the `help()` function. "
   ]
  },
  {
   "cell_type": "code",
   "execution_count": 241,
   "id": "5b3fe058-018b-4824-a435-67cd599ee9e9",
   "metadata": {},
   "outputs": [
    {
     "name": "stdout",
     "output_type": "stream",
     "text": [
      "Help on built-in function upper:\n",
      "\n",
      "upper() method of builtins.str instance\n",
      "    Return a copy of the string converted to uppercase.\n",
      "\n"
     ]
    }
   ],
   "source": [
    "help(msg.upper)"
   ]
  },
  {
   "cell_type": "markdown",
   "id": "48d2b09a-d025-4a42-8444-765b892eefcc",
   "metadata": {},
   "source": [
    "**N.B.** A more convenient way to get help when working in an IPython console is by simply putting a question mark after the object "
   ]
  },
  {
   "cell_type": "code",
   "execution_count": 238,
   "id": "40a6dadd-7ac6-403a-aec8-b982bb1a4787",
   "metadata": {},
   "outputs": [
    {
     "data": {
      "text/plain": [
       "\u001b[0;31mSignature:\u001b[0m \u001b[0mmsg\u001b[0m\u001b[0;34m.\u001b[0m\u001b[0mupper\u001b[0m\u001b[0;34m(\u001b[0m\u001b[0;34m)\u001b[0m\u001b[0;34m\u001b[0m\u001b[0;34m\u001b[0m\u001b[0m\n",
       "\u001b[0;31mDocstring:\u001b[0m Return a copy of the string converted to uppercase.\n",
       "\u001b[0;31mType:\u001b[0m      builtin_function_or_method\n"
      ]
     },
     "metadata": {},
     "output_type": "display_data"
    }
   ],
   "source": [
    "# IPython introspection with question mark\n",
    "msg.upper?"
   ]
  },
  {
   "cell_type": "markdown",
   "id": "d2d5d9c7-1cdf-4d3f-b13c-4f14fe8f3a2e",
   "metadata": {},
   "source": [
    "Here are a few more examples of string methods in action."
   ]
  },
  {
   "cell_type": "code",
   "execution_count": 55,
   "id": "b500f2d2-bd40-4e71-ae98-2ae11ec5d510",
   "metadata": {},
   "outputs": [
    {
     "name": "stdout",
     "output_type": "stream",
     "text": [
      "['urgent:', 'this', 'message', 'requires', 'your', 'attention']\n",
      "2\n",
      "URGENT: THIS MESSAGE REQUIRES YOUR IMMEDIATE ATTENTION\n"
     ]
    }
   ],
   "source": [
    "# Split the string into a list of separate words\n",
    "print(msg.split())  \n",
    "\n",
    "# Count the number of occurences of 'o'\n",
    "print(msg.count('o'))  \n",
    "\n",
    "# Replace substring and then convert to uppercase by 'chaining' methods together\n",
    "print(msg.replace('attention', 'immediate attention').upper())"
   ]
  },
  {
   "cell_type": "markdown",
   "id": "4a1cf294-01c2-4204-9804-b516f31494be",
   "metadata": {},
   "source": [
    "Try using the cell below to create a string variable and explore string methods!"
   ]
  },
  {
   "cell_type": "code",
   "execution_count": 110,
   "id": "883cdf63-591d-4acd-a10f-5c364b02cb37",
   "metadata": {},
   "outputs": [],
   "source": [
    "# Define a string variable here!\n"
   ]
  },
  {
   "cell_type": "markdown",
   "id": "f34213e4-f83d-49ad-b2f8-9c4e35016db7",
   "metadata": {},
   "source": [
    "In Python there are various ways to *format* strings, one of which is by calling the `.format()` method. This method will substitute curly braces `{}` for the values that are specified in the call to the method."
   ]
  },
  {
   "cell_type": "code",
   "execution_count": 56,
   "id": "00debd0d-34f7-4ba0-8f9b-ad885cd8af2c",
   "metadata": {},
   "outputs": [
    {
     "name": "stdout",
     "output_type": "stream",
     "text": [
      "His name is Fred Jones\n"
     ]
    }
   ],
   "source": [
    "first_name = 'Fred'\n",
    "last_name = 'Jones'\n",
    "print('His name is {} {}'.format(first_name, last_name))"
   ]
  },
  {
   "cell_type": "markdown",
   "id": "10ca13b3-3425-4d74-ba07-d9d26b7e03e0",
   "metadata": {},
   "source": [
    "Since Python 3.6, we can format strings using the [f-String](https://realpython.com/python-f-strings/) syntax, which is my personal preference. f-Strings are prefixed with an `f` and the substitution values are placed directly in the curly braces."
   ]
  },
  {
   "cell_type": "code",
   "execution_count": 57,
   "id": "5076a51b-411a-403b-a435-04ab6f0d27a5",
   "metadata": {},
   "outputs": [
    {
     "name": "stdout",
     "output_type": "stream",
     "text": [
      "His name is Fred Jones\n"
     ]
    }
   ],
   "source": [
    "print(f'His name is {first_name} {last_name}')"
   ]
  },
  {
   "cell_type": "markdown",
   "id": "ef89c63e-37c0-468f-a28a-24a8aaf8fe8f",
   "metadata": {},
   "source": [
    "Previously we saw that the `+` and `*` operators can be used for addition and multiplication in a numerical context. These particular operators can also be applied to strings!"
   ]
  },
  {
   "cell_type": "code",
   "execution_count": 58,
   "id": "7677a04e-5b00-4fab-ba2c-cebaf4986707",
   "metadata": {},
   "outputs": [
    {
     "data": {
      "text/plain": [
       "'I am the Cookie Monster and I love'"
      ]
     },
     "execution_count": 58,
     "metadata": {},
     "output_type": "execute_result"
    }
   ],
   "source": [
    "# Use the + operator to concatenate (i.e. glue together) strings\n",
    "'I ' + 'am ' + 'the ' + 'Cookie ' + 'Monster ' + 'and ' + 'I ' + 'love'"
   ]
  },
  {
   "cell_type": "code",
   "execution_count": 111,
   "id": "571c11da-04ba-4407-9d2c-231716b0160b",
   "metadata": {},
   "outputs": [
    {
     "data": {
      "text/plain": [
       "'COOKIES COOKIES COOKIES COOKIES COOKIES COOKIES COOKIES COOKIES COOKIES COOKIES '"
      ]
     },
     "execution_count": 111,
     "metadata": {},
     "output_type": "execute_result"
    }
   ],
   "source": [
    "# Use the * operator to create multiple copies of (i.e. repeat) a string\n",
    "'COOKIES ' * 10"
   ]
  },
  {
   "cell_type": "markdown",
   "id": "43fea1a2-ff37-4e9a-98d9-c5d4845f861b",
   "metadata": {},
   "source": [
    "Finally (though not exhaustively), strings are sequences of data, which means they can be *indexed* and *sliced* using square brackets `[]` and numerical indices. Recall that indexing starts at `0` in Python, so to get the first character of a string variable we would use `[0]`"
   ]
  },
  {
   "cell_type": "code",
   "execution_count": 59,
   "id": "7a1e838a-da08-44a0-966c-21176ce2121a",
   "metadata": {},
   "outputs": [
    {
     "data": {
      "text/plain": [
       "'s'"
      ]
     },
     "execution_count": 59,
     "metadata": {},
     "output_type": "execute_result"
    }
   ],
   "source": [
    "msg = 'supercalifragilisticexpialidocious'\n",
    "# Get the first character from the string\n",
    "msg[0]"
   ]
  },
  {
   "cell_type": "code",
   "execution_count": 62,
   "id": "9678ea11-29c7-47fd-b0ff-893e58bef40c",
   "metadata": {},
   "outputs": [
    {
     "data": {
      "text/plain": [
       "'super'"
      ]
     },
     "execution_count": 62,
     "metadata": {},
     "output_type": "execute_result"
    }
   ],
   "source": [
    "# Get characters from 0 to 5\n",
    "msg[0:5]"
   ]
  },
  {
   "cell_type": "markdown",
   "id": "dfc1f5d7-ad78-44f0-a3b1-e47bebdd334c",
   "metadata": {},
   "source": [
    "### 2.4 Lists\n",
    "\n",
    "Python's `list` is a versatile, compound data type used for grouping together other values, which may or may not have the same type (although items in a list typically have the same type).\n",
    "\n",
    "Lists are defined with square brackets and commas between each item.\n"
   ]
  },
  {
   "cell_type": "code",
   "execution_count": 64,
   "id": "637f5f98",
   "metadata": {},
   "outputs": [
    {
     "data": {
      "text/plain": [
       "list"
      ]
     },
     "execution_count": 64,
     "metadata": {},
     "output_type": "execute_result"
    }
   ],
   "source": [
    "my_shopping_list = ['bread', 'milk', 'soap', 'tin foil', 'dishwasher tablets']\n",
    "type(my_shopping_list)"
   ]
  },
  {
   "cell_type": "code",
   "execution_count": 68,
   "id": "e31af8d3-a15d-4934-abc5-5da355c7a2ae",
   "metadata": {},
   "outputs": [
    {
     "name": "stdout",
     "output_type": "stream",
     "text": [
      "['bread', 'milk', 'soap', 'tin foil', 'dishwasher tablets']\n"
     ]
    }
   ],
   "source": [
    "print(my_shopping_list)"
   ]
  },
  {
   "cell_type": "markdown",
   "id": "65aeb49b",
   "metadata": {},
   "source": [
    "As with strings, lists support indexing and slicing via square brackets and numerical indices."
   ]
  },
  {
   "cell_type": "code",
   "execution_count": 66,
   "id": "fa1d9b8a",
   "metadata": {},
   "outputs": [
    {
     "data": {
      "text/plain": [
       "'bread'"
      ]
     },
     "execution_count": 66,
     "metadata": {},
     "output_type": "execute_result"
    }
   ],
   "source": [
    "# Get the first item in the list\n",
    "my_shopping_list[0]"
   ]
  },
  {
   "cell_type": "code",
   "execution_count": 67,
   "id": "5cb1c321-7532-483d-9c15-d2a93552d550",
   "metadata": {},
   "outputs": [
    {
     "data": {
      "text/plain": [
       "['milk', 'soap']"
      ]
     },
     "execution_count": 67,
     "metadata": {},
     "output_type": "execute_result"
    }
   ],
   "source": [
    "# Get items 1 to 3 in the list\n",
    "my_shopping_list[1:3]"
   ]
  },
  {
   "cell_type": "markdown",
   "id": "957f417c-3dc0-4ea5-a39a-c72d0f0668d8",
   "metadata": {},
   "source": [
    "However, unlike strings, **lists are mutable**, which means elements can be removed or reassigned."
   ]
  },
  {
   "cell_type": "code",
   "execution_count": 69,
   "id": "6569848e-a358-483e-ba89-6eef96895e71",
   "metadata": {},
   "outputs": [
    {
     "name": "stdout",
     "output_type": "stream",
     "text": [
      "['sourdough', 'milk', 'soap', 'tin foil', 'dishwasher tablets']\n"
     ]
    }
   ],
   "source": [
    "# Change 'bread' to 'sourdough'\n",
    "my_shopping_list[0] = 'sourdough'  \n",
    "print(my_shopping_list)"
   ]
  },
  {
   "cell_type": "code",
   "execution_count": 70,
   "id": "a0b7e3e2-383c-4021-9289-b4ec300f9c5f",
   "metadata": {},
   "outputs": [
    {
     "name": "stdout",
     "output_type": "stream",
     "text": [
      "['sourdough', 'milk', 'soap', 'dishwasher tablets']\n"
     ]
    }
   ],
   "source": [
    "# Use the del (delete) statement to remove 'tin foil' from the list\n",
    "del my_shopping_list[3] \n",
    "print(my_shopping_list)"
   ]
  },
  {
   "cell_type": "markdown",
   "id": "19e816e0-d3e2-4e56-9e49-e0d4c29fb0a2",
   "metadata": {},
   "source": [
    "Concatenation and repeating with the `+` and `*` operators works the same as with strings."
   ]
  },
  {
   "cell_type": "code",
   "execution_count": 72,
   "id": "58f03e6e",
   "metadata": {},
   "outputs": [
    {
     "name": "stdout",
     "output_type": "stream",
     "text": [
      "['sourdough', 'milk', 'soap', 'dishwasher tablets', 'flour', 'butter', 'eggs']\n"
     ]
    }
   ],
   "source": [
    "your_shopping_list = ['flour', 'butter', 'eggs']\n",
    "\n",
    "# Concatenate two lists with the + operator\n",
    "combined_list = my_shopping_list + your_shopping_list\n",
    "print(combined_list)"
   ]
  },
  {
   "cell_type": "code",
   "execution_count": 73,
   "id": "1cefa702-6161-4f3a-bc66-2ed12f7e7e57",
   "metadata": {},
   "outputs": [
    {
     "name": "stdout",
     "output_type": "stream",
     "text": [
      "['sourdough', 'milk', 'soap', 'dishwasher tablets', 'flour', 'butter', 'eggs', 'sourdough', 'milk', 'soap', 'dishwasher tablets', 'flour', 'butter', 'eggs']\n"
     ]
    }
   ],
   "source": [
    "# Repeat the list with the * operator\n",
    "duplicated_list = combined_list * 2\n",
    "print(duplicated_list)"
   ]
  },
  {
   "cell_type": "markdown",
   "id": "819c5164-bd88-4405-bf78-ec4d7af512c3",
   "metadata": {},
   "source": [
    "Lists also have useful methods that can be accessed via the `.` notation. Here are a few examples."
   ]
  },
  {
   "cell_type": "code",
   "execution_count": 94,
   "id": "dc4b94a7-8b8c-4d21-b5d8-588d02107ac5",
   "metadata": {},
   "outputs": [
    {
     "name": "stdout",
     "output_type": "stream",
     "text": [
      "['sourdough', 'milk', 'soap', 'dishwasher tablets']\n",
      "['dishwasher tablets', 'soap', 'milk', 'sourdough']\n",
      "['dishwasher tablets', 'soap', 'milk', 'sourdough', 'apples']\n",
      "['apples', 'dishwasher tablets', 'milk', 'soap', 'sourdough']\n"
     ]
    }
   ],
   "source": [
    "# Print the current shopping list\n",
    "print(my_shopping_list)\n",
    "\n",
    "# Reverse the list\n",
    "my_shopping_list.reverse()\n",
    "print(my_shopping_list)\n",
    "\n",
    "# Append an item to the end of the list\n",
    "my_shopping_list.append('apples')\n",
    "print(my_shopping_list)\n",
    "\n",
    "# Sort list alphabetically\n",
    "my_shopping_list.sort()\n",
    "print(my_shopping_list)\n"
   ]
  },
  {
   "cell_type": "markdown",
   "id": "ca5a5687-65e8-46d5-9dcf-7c32f19d151c",
   "metadata": {},
   "source": [
    "Try creating a list in the cell below and explore the list methods! Remember, if you are unsure what a method does you can use the `help()` function."
   ]
  },
  {
   "cell_type": "code",
   "execution_count": null,
   "id": "105b1e3e-e705-449f-8293-0e7953d5fdca",
   "metadata": {},
   "outputs": [],
   "source": [
    "# Create a list in this cell!\n"
   ]
  },
  {
   "cell_type": "markdown",
   "id": "6b21916c-ae77-4f13-80a0-2fa0266c4451",
   "metadata": {},
   "source": [
    "### 2.5 Tuples\n",
    "\n",
    "Tuples are just like lists, except they are **immutable**, which means they can't be changed after they've been made. \n",
    "\n",
    "It may seem strange to have two separate data types with only this small difference between them, but the versatility of lists comes at the expense of more allocated computer memory. If you know that a sequence of values is not going to change across the life of a computer program, using a tuple instead of a list can improve performance. "
   ]
  },
  {
   "cell_type": "code",
   "execution_count": 74,
   "id": "ceea4296",
   "metadata": {},
   "outputs": [
    {
     "data": {
      "text/plain": [
       "tuple"
      ]
     },
     "execution_count": 74,
     "metadata": {},
     "output_type": "execute_result"
    }
   ],
   "source": [
    "# Latitude and longitude of York Minster\n",
    "location = (53.96228434988206, -1.081881847036603)\n",
    "type(location)"
   ]
  },
  {
   "cell_type": "markdown",
   "id": "1475580d-3869-462f-b356-d2ab3785ab5f",
   "metadata": {},
   "source": [
    "Indexing of tuples works the same. as with lists and strings"
   ]
  },
  {
   "cell_type": "code",
   "execution_count": 99,
   "id": "e9511b83-2115-45e4-b389-2e91a7950bab",
   "metadata": {},
   "outputs": [
    {
     "data": {
      "text/plain": [
       "53.96228434988206"
      ]
     },
     "execution_count": 99,
     "metadata": {},
     "output_type": "execute_result"
    }
   ],
   "source": [
    "latitude = location[0]  # First item in the tuple\n",
    "latitude"
   ]
  },
  {
   "cell_type": "code",
   "execution_count": 100,
   "id": "d0769821-6500-45a9-9093-09f27a028097",
   "metadata": {},
   "outputs": [
    {
     "data": {
      "text/plain": [
       "-1.081881847036603"
      ]
     },
     "execution_count": 100,
     "metadata": {},
     "output_type": "execute_result"
    }
   ],
   "source": [
    "longitude = location[1]  # Second item in the tuple\n",
    "longitude"
   ]
  },
  {
   "cell_type": "markdown",
   "id": "0b3af1d2-9560-4efb-8cc3-86f7552d9a48",
   "metadata": {},
   "source": [
    "There is little else to say about tuples, other than they have two built-in methods: `.count()` and `.index()`. Try defining a tuple in the cell below and learn more about these methods!"
   ]
  },
  {
   "cell_type": "code",
   "execution_count": 78,
   "id": "b64c6719-c3ea-4819-ae7e-8819404cd85e",
   "metadata": {},
   "outputs": [],
   "source": [
    "# Define a tuple in this cell\n"
   ]
  },
  {
   "cell_type": "markdown",
   "id": "11ae27e9-e39a-4d3d-91b1-b894ac688852",
   "metadata": {
    "tags": []
   },
   "source": [
    "### 2.6 Dictionaries\n",
    "\n",
    "Dictionaries, like lists, are a mutable data type for storing collections of objects. The difference with dictionaries is that **data are stored in key-value pairs**. \n",
    "\n",
    "We define dictionaries using curly braces, commas to separate key-value pairs, and colons to separate keys and values.\n",
    "\n",
    "`my_dict = {key: value, key: value, ..., key: value}`\n",
    "\n",
    "Here's an example dictionary that stores some data about the University of York."
   ]
  },
  {
   "cell_type": "code",
   "execution_count": 79,
   "id": "7ca12ca0-3cc1-4943-a6f1-f515180c9e26",
   "metadata": {},
   "outputs": [
    {
     "data": {
      "text/plain": [
       "dict"
      ]
     },
     "execution_count": 79,
     "metadata": {},
     "output_type": "execute_result"
    }
   ],
   "source": [
    "# An example dictionary\n",
    "university = {\n",
    "    'name': 'University of York',\n",
    "    'location': (53.946216224889824, -1.0516966993211523),\n",
    "    'contact': {\n",
    "        'tel': '+44 (0)1904 32 0000',\n",
    "        'fax': '+44 (0)1904 32 3433'\n",
    "    },\n",
    "    'website': 'https://www.york.ac.uk/',\n",
    "    'founded': 1963,\n",
    "    'russel_group': True,\n",
    "\n",
    "}\n",
    "type(university)"
   ]
  },
  {
   "cell_type": "markdown",
   "id": "78441c1e-31bc-437a-8435-0e87c1f6deb2",
   "metadata": {},
   "source": [
    "To access a value from a dictionary, we simply use the key as an index."
   ]
  },
  {
   "cell_type": "code",
   "execution_count": 82,
   "id": "0c2902c4-7667-411f-aa6d-1b6ed0f1e2b9",
   "metadata": {},
   "outputs": [
    {
     "data": {
      "text/plain": [
       "'University of York'"
      ]
     },
     "execution_count": 82,
     "metadata": {},
     "output_type": "execute_result"
    }
   ],
   "source": [
    "university['name']"
   ]
  },
  {
   "cell_type": "markdown",
   "id": "c5df9bd4-46db-432a-866f-1c652785f6f4",
   "metadata": {},
   "source": [
    "In the above example above, all of the dictionary keys are of string type. However, we can use any [hashable](https://realpython.com/lessons/immutable-vs-hashable/) (essentially synonymous with immutable) data type as a dictionary key. "
   ]
  },
  {
   "cell_type": "code",
   "execution_count": 140,
   "id": "027f4092-f5db-4bb0-9ffc-a0d61d2e5e7e",
   "metadata": {},
   "outputs": [],
   "source": [
    "my_dict = {\n",
    "    1: 'has a integer key',\n",
    "    2.0: 'has a floating point key',\n",
    "    (3, 4.0): 'has a tuple key',\n",
    "    'five': 'has a string key'\n",
    "}"
   ]
  },
  {
   "cell_type": "code",
   "execution_count": 141,
   "id": "788838f3-876c-4761-9bfc-5f366237028b",
   "metadata": {},
   "outputs": [
    {
     "data": {
      "text/plain": [
       "'has a tuple key'"
      ]
     },
     "execution_count": 141,
     "metadata": {},
     "output_type": "execute_result"
    }
   ],
   "source": [
    "my_dict[(3, 4.0)]"
   ]
  },
  {
   "cell_type": "markdown",
   "id": "df67a4f1-a881-45ad-8848-69d2474b9c18",
   "metadata": {},
   "source": [
    "The only other important restriction on dictionary keys is that there can be no duplicates!\n",
    "\n",
    "As with lists, strings, and tuples, dictionaries have some useful built-in methods. Here are some of them in action."
   ]
  },
  {
   "cell_type": "code",
   "execution_count": 84,
   "id": "ac2e2c07-b0c8-4af7-b5ea-7e05e78f206c",
   "metadata": {},
   "outputs": [
    {
     "name": "stdout",
     "output_type": "stream",
     "text": [
      "dict_keys(['name', 'location', 'contact', 'website', 'founded', 'russel_group'])\n"
     ]
    }
   ],
   "source": [
    "# Use .keys() to get a list of a dictionary's keys\n",
    "print(university.keys())"
   ]
  },
  {
   "cell_type": "code",
   "execution_count": 137,
   "id": "519bbc96-0045-4ee7-98bb-de288f361543",
   "metadata": {},
   "outputs": [
    {
     "name": "stdout",
     "output_type": "stream",
     "text": [
      "dict_values(['University of York', (53.946216224889824, -1.0516966993211523), {'tel': '+44 (0)1904 32 0000', 'fax': '+44 (0)1904 32 3433'}, 'https://www.york.ac.uk/', 1963, True])\n"
     ]
    }
   ],
   "source": [
    "# Use .values() to get a list of a dictionary's values\n",
    "print(university.values())"
   ]
  },
  {
   "cell_type": "code",
   "execution_count": 85,
   "id": "6e4152f1-2041-4540-bedd-79992c809255",
   "metadata": {},
   "outputs": [
    {
     "name": "stdout",
     "output_type": "stream",
     "text": [
      "dict_items([('name', 'University of York'), ('location', (53.946216224889824, -1.0516966993211523)), ('contact', {'tel': '+44 (0)1904 32 0000', 'fax': '+44 (0)1904 32 3433'}), ('website', 'https://www.york.ac.uk/'), ('founded', 1963), ('russel_group', True)])\n"
     ]
    }
   ],
   "source": [
    "# Use .items() to get a list of a dictionary's items (i.e., key:value pairs)\n",
    "print(university.items())"
   ]
  },
  {
   "cell_type": "markdown",
   "id": "f349d6b4-5a0b-43c0-b1ba-309f142c2f78",
   "metadata": {},
   "source": [
    "Try defining your own dictionary in the cell below and experiment with dictionary methods!"
   ]
  },
  {
   "cell_type": "markdown",
   "id": "2066b95f-19e3-41e5-b8d3-1df275ecc205",
   "metadata": {},
   "source": [
    "### 3. Built-in Functions\n",
    "\n",
    "Python has some [built-in functions](https://docs.python.org/3/library/functions.html) that are always available for use. Some are more obscure than others and tend to be less relevant for beginners. Up to now, the built-in functions we have encountered include `help()`, `print()`, `input()`, `type()`, `int()`, `float()`, `bool()`, `str()`, `list()`, `tuple()`, and `dict()`. \n",
    "\n",
    "Use the cell below to refresh your memory on these. You can use the `help()` function, or type the name of the object (without the `()`) followed by a question mark."
   ]
  },
  {
   "cell_type": "code",
   "execution_count": 223,
   "id": "518f29ed-5e5c-4faa-b4c0-6fe5437d982d",
   "metadata": {},
   "outputs": [
    {
     "data": {
      "text/plain": [
       "\u001b[0;31mInit signature:\u001b[0m \u001b[0mint\u001b[0m\u001b[0;34m(\u001b[0m\u001b[0mself\u001b[0m\u001b[0;34m,\u001b[0m \u001b[0;34m/\u001b[0m\u001b[0;34m,\u001b[0m \u001b[0;34m*\u001b[0m\u001b[0margs\u001b[0m\u001b[0;34m,\u001b[0m \u001b[0;34m**\u001b[0m\u001b[0mkwargs\u001b[0m\u001b[0;34m)\u001b[0m\u001b[0;34m\u001b[0m\u001b[0;34m\u001b[0m\u001b[0m\n",
       "\u001b[0;31mDocstring:\u001b[0m     \n",
       "int([x]) -> integer\n",
       "int(x, base=10) -> integer\n",
       "\n",
       "Convert a number or string to an integer, or return 0 if no arguments\n",
       "are given.  If x is a number, return x.__int__().  For floating point\n",
       "numbers, this truncates towards zero.\n",
       "\n",
       "If x is not a number or if base is given, then x must be a string,\n",
       "bytes, or bytearray instance representing an integer literal in the\n",
       "given base.  The literal can be preceded by '+' or '-' and be surrounded\n",
       "by whitespace.  The base defaults to 10.  Valid bases are 0 and 2-36.\n",
       "Base 0 means to interpret the base from the string as an integer literal.\n",
       ">>> int('0b100', base=0)\n",
       "4\n",
       "\u001b[0;31mType:\u001b[0m           type\n",
       "\u001b[0;31mSubclasses:\u001b[0m     bool, IntEnum, IntFlag, _NamedIntConstant\n"
      ]
     },
     "metadata": {},
     "output_type": "display_data"
    }
   ],
   "source": [
    "# Use this cell to get help on built-in functions\n",
    "int?"
   ]
  },
  {
   "cell_type": "markdown",
   "id": "34ef5eaf-5857-4fa0-a7e5-394d050af3c3",
   "metadata": {},
   "source": [
    "Another very useful built-in function is `len()`, which returns the number of items in a sequence. The `Pen` example at the start of this notebook uses `len()` to deplete its `ink_left` attribute according to the number of characters in the message printed `.write_something()`. Take another look, hopefully it will make a bit more sense now!\n",
    "\n",
    "Here's a look at `len()` in action."
   ]
  },
  {
   "cell_type": "code",
   "execution_count": 264,
   "id": "b261529b-894d-4c62-8927-6f2ff86f70cb",
   "metadata": {},
   "outputs": [
    {
     "data": {
      "text/plain": [
       "5"
      ]
     },
     "execution_count": 264,
     "metadata": {},
     "output_type": "execute_result"
    }
   ],
   "source": [
    "# Use of len() to get the number of characters in a string\n",
    "msg = 'hello'\n",
    "len(msg)"
   ]
  },
  {
   "cell_type": "code",
   "execution_count": 265,
   "id": "5d6e588c-478c-46ac-af74-29e50e31a139",
   "metadata": {},
   "outputs": [
    {
     "data": {
      "text/plain": [
       "3"
      ]
     },
     "execution_count": 265,
     "metadata": {},
     "output_type": "execute_result"
    }
   ],
   "source": [
    "# Use of len() to get the number of items in a list\n",
    "shopping_list = ['bread', 'milk', 'tin foil']\n",
    "len(shopping_list)"
   ]
  },
  {
   "cell_type": "markdown",
   "id": "4559412b-ba83-46de-973f-2867283aba71",
   "metadata": {},
   "source": [
    "Some other useful built-ins for working with numerical data are `min()`, `max()`, `sum()`, and `round()`. Here's a quick look at each of them."
   ]
  },
  {
   "cell_type": "code",
   "execution_count": 89,
   "id": "b80683b9-825c-4c4a-b799-498695b8960a",
   "metadata": {},
   "outputs": [],
   "source": [
    "# A list of numbers\n",
    "numbers = [2, 55, 67, 34.07, 900]"
   ]
  },
  {
   "cell_type": "code",
   "execution_count": 90,
   "id": "80ede687-6f70-4284-9b3b-30a0f7bf58a2",
   "metadata": {},
   "outputs": [
    {
     "data": {
      "text/plain": [
       "2"
      ]
     },
     "execution_count": 90,
     "metadata": {},
     "output_type": "execute_result"
    }
   ],
   "source": [
    "# min() returns the smallest item\n",
    "min(numbers)"
   ]
  },
  {
   "cell_type": "code",
   "execution_count": 91,
   "id": "1ec382af-f69d-4fec-8147-768c740fa6f7",
   "metadata": {},
   "outputs": [
    {
     "data": {
      "text/plain": [
       "900"
      ]
     },
     "execution_count": 91,
     "metadata": {},
     "output_type": "execute_result"
    }
   ],
   "source": [
    "# max() returns the biggest item\n",
    "max(numbers)"
   ]
  },
  {
   "cell_type": "code",
   "execution_count": 92,
   "id": "e1e99965-b935-406d-8bb5-af427c100912",
   "metadata": {},
   "outputs": [
    {
     "data": {
      "text/plain": [
       "1058.07"
      ]
     },
     "execution_count": 92,
     "metadata": {},
     "output_type": "execute_result"
    }
   ],
   "source": [
    "# sum() returns the sum of numeric values\n",
    "sum(numbers)"
   ]
  },
  {
   "cell_type": "code",
   "execution_count": 93,
   "id": "358460b4-a874-45a9-ac8a-5512cfa228d4",
   "metadata": {},
   "outputs": [
    {
     "data": {
      "text/plain": [
       "3.142"
      ]
     },
     "execution_count": 93,
     "metadata": {},
     "output_type": "execute_result"
    }
   ],
   "source": [
    "# round() rounds a number to a specified precision\n",
    "pi = 3.14159265359\n",
    "round(pi, 3)"
   ]
  },
  {
   "cell_type": "markdown",
   "id": "036f240e-9d82-4df3-9df7-99403f0c9b99",
   "metadata": {},
   "source": [
    "### 4. That's it for now!\n"
   ]
  },
  {
   "cell_type": "code",
   "execution_count": 10,
   "id": "e2f0de57-3b4d-4602-86d4-423b8db019e7",
   "metadata": {},
   "outputs": [
    {
     "name": "stdout",
     "output_type": "stream",
     "text": [
      "Time for a ☕?\n"
     ]
    }
   ],
   "source": [
    "print('Time for a \\u2615?')"
   ]
  }
 ],
 "metadata": {
  "kernelspec": {
   "display_name": "Python 3 (ipykernel)",
   "language": "python",
   "name": "python3"
  },
  "language_info": {
   "codemirror_mode": {
    "name": "ipython",
    "version": 3
   },
   "file_extension": ".py",
   "mimetype": "text/x-python",
   "name": "python",
   "nbconvert_exporter": "python",
   "pygments_lexer": "ipython3",
   "version": "3.9.13"
  }
 },
 "nbformat": 4,
 "nbformat_minor": 5
}
