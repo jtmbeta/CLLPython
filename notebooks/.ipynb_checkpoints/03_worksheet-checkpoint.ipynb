{
 "cells": [
  {
   "cell_type": "markdown",
   "id": "237d016f",
   "metadata": {},
   "source": [
    "# Week 3 worksheet\n",
    "\n",
    "This week we are going to write a module and import some functions from it. \n",
    "\n",
    "For the code below to work, you need to do the following:\n",
    "\n",
    "  1. Create a file called `mymodule.py` and put it in the same folder as this notebook\n",
    "  2. Write the three functions that are to be imported from `mymodule`. Note that these are the three scripts from the first week, but they will need to be implemented as in the module as functions.\n",
    "\n",
    "The output should look something like below. "
   ]
  },
  {
   "cell_type": "code",
   "execution_count": 1,
   "id": "2916c446-ca31-4fa3-81d0-92fa497bf6f5",
   "metadata": {},
   "outputs": [
    {
     "name": "stdout",
     "output_type": "stream",
     "text": [
      "Let's play a guessing game!\n",
      "\n"
     ]
    },
    {
     "name": "stdin",
     "output_type": "stream",
     "text": [
      "Enter any whole number between 1 and 100:  50\n"
     ]
    },
    {
     "name": "stdout",
     "output_type": "stream",
     "text": [
      "Too high!\n"
     ]
    },
    {
     "name": "stdin",
     "output_type": "stream",
     "text": [
      "Enter number again:  25\n"
     ]
    },
    {
     "name": "stdout",
     "output_type": "stream",
     "text": [
      "Too low\n"
     ]
    },
    {
     "name": "stdin",
     "output_type": "stream",
     "text": [
      "Enter number again:  33\n"
     ]
    },
    {
     "name": "stdout",
     "output_type": "stream",
     "text": [
      "Too low\n"
     ]
    },
    {
     "name": "stdin",
     "output_type": "stream",
     "text": [
      "Enter number again:  37\n"
     ]
    },
    {
     "name": "stdout",
     "output_type": "stream",
     "text": [
      "Too high!\n"
     ]
    },
    {
     "name": "stdin",
     "output_type": "stream",
     "text": [
      "Enter number again:  35\n"
     ]
    },
    {
     "name": "stdout",
     "output_type": "stream",
     "text": [
      "You guessed it right!!\n",
      "\n",
      "Checking to see if 35 is a prime number.\n",
      "\tTesting for 2\n",
      "\tTesting for 3\n",
      "\tTesting for 4\n",
      "\tTesting for 5\n",
      "35 is a prime number.\n",
      "35 degrees fahrenheit is equivalent to 1.67 degrees celsius.\n"
     ]
    }
   ],
   "source": [
    "from mymodule import (\n",
    "    guess_the_number,\n",
    "    check_prime_number, \n",
    "    fahrenheit_to_celsius\n",
    ")\n",
    "\n",
    "# Play the number guessing game\n",
    "number = guess_the_number()\n",
    "\n",
    "# Check whether the secret number is a prime\n",
    "check_prime_number(number)\n",
    "\n",
    "# If the number was a temperature in degrees Fahrenheit,\n",
    "# report the equivalent in Celsisus\n",
    "fahrenheit_to_celsius(number)"
   ]
  }
 ],
 "metadata": {
  "kernelspec": {
   "display_name": "Python 3 (ipykernel)",
   "language": "python",
   "name": "python3"
  },
  "language_info": {
   "codemirror_mode": {
    "name": "ipython",
    "version": 3
   },
   "file_extension": ".py",
   "mimetype": "text/x-python",
   "name": "python",
   "nbconvert_exporter": "python",
   "pygments_lexer": "ipython3",
   "version": "3.9.13"
  }
 },
 "nbformat": 4,
 "nbformat_minor": 5
}
