{
 "cells": [
  {
   "cell_type": "markdown",
   "id": "237d016f",
   "metadata": {},
   "source": [
    "# Week 3 - Exercises\n",
    "\n",
    "## Exercise 1 - First module\n",
    "\n",
    "This week we are going to write a module and import some functions from it. \n",
    "\n",
    "For the code below to work, you need to do the following:\n",
    "\n",
    "  1. Create a file called `mymodule.py` and put it in the same folder as this notebook. It me be easiest to do this in Spyder.\n",
    "  2. Write the three functions that are to be imported from `mymodule`. Note that these are the three scripts from the first week, but they will need to be implemented in the module as functions.\n",
    "\n",
    "The desired output is as follows. First, we play the number guessing game, which should return the secret number at the end. Then, we check whether that number is a prime number. Finally, we pretend that the number is a temperature in degrees Fahrenheit and report the equivalent in Celsius. \n",
    "\n",
    "There are many ways to approach this problem, but the output should look something like below."
   ]
  },
  {
   "cell_type": "code",
   "execution_count": 1,
   "id": "2916c446-ca31-4fa3-81d0-92fa497bf6f5",
   "metadata": {},
   "outputs": [
    {
     "name": "stdout",
     "output_type": "stream",
     "text": [
      "Let's play a guessing game!\n",
      "\n"
     ]
    },
    {
     "name": "stdin",
     "output_type": "stream",
     "text": [
      "Enter any whole number between 1 and 100:  50\n"
     ]
    },
    {
     "name": "stdout",
     "output_type": "stream",
     "text": [
      "Too low\n"
     ]
    },
    {
     "name": "stdin",
     "output_type": "stream",
     "text": [
      "Enter number again:  75\n"
     ]
    },
    {
     "name": "stdout",
     "output_type": "stream",
     "text": [
      "Too low\n"
     ]
    },
    {
     "name": "stdin",
     "output_type": "stream",
     "text": [
      "Enter number again:  90\n"
     ]
    },
    {
     "name": "stdout",
     "output_type": "stream",
     "text": [
      "Too high!\n"
     ]
    },
    {
     "name": "stdin",
     "output_type": "stream",
     "text": [
      "Enter number again:  83\n"
     ]
    },
    {
     "name": "stdout",
     "output_type": "stream",
     "text": [
      "Too high!\n"
     ]
    },
    {
     "name": "stdin",
     "output_type": "stream",
     "text": [
      "Enter number again:  82\n"
     ]
    },
    {
     "name": "stdout",
     "output_type": "stream",
     "text": [
      "Too high!\n"
     ]
    },
    {
     "name": "stdin",
     "output_type": "stream",
     "text": [
      "Enter number again:  81\n"
     ]
    },
    {
     "name": "stdout",
     "output_type": "stream",
     "text": [
      "Too high!\n"
     ]
    },
    {
     "name": "stdin",
     "output_type": "stream",
     "text": [
      "Enter number again:  80\n"
     ]
    },
    {
     "name": "stdout",
     "output_type": "stream",
     "text": [
      "Too high!\n"
     ]
    },
    {
     "name": "stdin",
     "output_type": "stream",
     "text": [
      "Enter number again:  78\n"
     ]
    },
    {
     "name": "stdout",
     "output_type": "stream",
     "text": [
      "You guessed it right!!\n",
      "\n",
      "Checking to see if 78 is a prime number.\n",
      "\tTesting for 2\n",
      "78 is divisible by 2, so it is not a prime number.\n",
      "78 degrees fahrenheit is equivalent to 25.56 degrees celsius.\n"
     ]
    }
   ],
   "source": [
    "from mymodule import (\n",
    "    guess_the_number,\n",
    "    check_prime_number, \n",
    "    fahrenheit_to_celsius\n",
    ")\n",
    "\n",
    "# Play the number guessing game\n",
    "number = guess_the_number()\n",
    "\n",
    "# Check whether the secret number is a prime\n",
    "check_prime_number(number)\n",
    "\n",
    "# If the number was a temperature in degrees Fahrenheit,\n",
    "# report the equivalent in Celsisus\n",
    "fahrenheit_to_celsius(number)"
   ]
  },
  {
   "cell_type": "markdown",
   "id": "cc4c5dba-d40e-4cf8-bde3-ae1d59e2b8db",
   "metadata": {},
   "source": [
    "`module.py`\n",
    "-----------"
   ]
  },
  {
   "cell_type": "code",
   "execution_count": null,
   "id": "fc31e058-ec14-4c93-b2d7-79b52629d13b",
   "metadata": {},
   "outputs": [],
   "source": [
    "\"\"\"A small module with some functions we have been working on.\"\"\"\n",
    "\n",
    "import random\n",
    "\n",
    "\n",
    "def guess_the_number():\n",
    "    \"\"\"Play a number guessing game.\n",
    "\n",
    "    Returns\n",
    "    -------\n",
    "    number : int\n",
    "        The correct number.\n",
    "\n",
    "    \"\"\"\n",
    "    # Generate a random number between 1 and 101\n",
    "    number = random.randrange(1, 101)\n",
    "\n",
    "    print(\"Let's play a guessing game!\\n\")\n",
    "\n",
    "    # Ask the user to have a guess\n",
    "    guess = int(float(input(\"Enter any whole number between 1 and 100: \")))\n",
    "\n",
    "    # Keep asking until the guess is right\n",
    "    while number != guess:\n",
    "        if guess < number:\n",
    "            print(\"Too low\")\n",
    "            guess = int(input(\"Enter number again: \"))\n",
    "        elif guess > number:\n",
    "            print(\"Too high!\")\n",
    "            guess = int(input(\"Enter number again: \"))\n",
    "        else:\n",
    "            break\n",
    "\n",
    "    # Tell user they guessed right\n",
    "    print(\"You guessed it right!!\\n\")\n",
    "\n",
    "    # Return the number\n",
    "    return number\n",
    "\n",
    "\n",
    "def check_prime_number(number):\n",
    "    \"\"\"Check if a number is prime.\n",
    "\n",
    "    Parameters\n",
    "    ----------\n",
    "    number : int\n",
    "        The number to check (must be an integer).\n",
    "\n",
    "    Returns\n",
    "    -------\n",
    "    None\n",
    "\n",
    "    \"\"\"\n",
    "    # Throw an error if number is not an integer\n",
    "    if not isinstance(number, int):\n",
    "        raise TypeError(f\"check_prime_number expects int, but got {type(number)}\")\n",
    "\n",
    "    # Print out some feedback\n",
    "    print(f\"Checking to see if {number} is a prime number.\")\n",
    "\n",
    "    # Define a flag variable\n",
    "    is_prime = False\n",
    "\n",
    "    # Prime numbers are greater than 1\n",
    "    if number > 1:\n",
    "        # Check for factors\n",
    "        for i in range(2, number):\n",
    "            print(\"\\tTesting for \" + str(i))\n",
    "            if (number % i) == 0:\n",
    "                # If factor is found, set flag to True\n",
    "                is_prime = True\n",
    "                # Break out of loop\n",
    "                break\n",
    "\n",
    "    if not is_prime:\n",
    "        print(f\"{number} is a prime number.\")\n",
    "    else:\n",
    "        print(f\"{number} is divisible by {i}, so it is not a prime number.\")\n",
    "\n",
    "    return None\n",
    "\n",
    "\n",
    "def fahrenheit_to_celsius(temp):\n",
    "    \"\"\"Convert Fahrenheit to Celsius.\n",
    "\n",
    "    Parameters\n",
    "    ----------\n",
    "    temp : int or float\n",
    "        Temperature in Fahrenheit.\n",
    "\n",
    "    Returns\n",
    "    -------\n",
    "    celsius : float\n",
    "        Equivalent temperature in Celsius.\n",
    "\n",
    "    \"\"\"\n",
    "    # Throw an error if number is not integer or floating point\n",
    "    if not isinstance(temp, (int, float)):\n",
    "        raise TypeError(\n",
    "            f\"fahrenheit_to_celsius expects int or float, got {type(temp)}\"\n",
    "        )\n",
    "\n",
    "    # Convert to Celsius\n",
    "    celsius = (temp - 32) * (5 / 9)\n",
    "    celsius = round(celsius, 2)\n",
    "\n",
    "    print(\n",
    "        f\"{temp} degrees fahrenheit is equivalent to {celsius} degrees celsius.\"\n",
    "    )\n",
    "\n",
    "    return None\n"
   ]
  }
 ],
 "metadata": {
  "kernelspec": {
   "display_name": "Python 3 (ipykernel)",
   "language": "python",
   "name": "python3"
  },
  "language_info": {
   "codemirror_mode": {
    "name": "ipython",
    "version": 3
   },
   "file_extension": ".py",
   "mimetype": "text/x-python",
   "name": "python",
   "nbconvert_exporter": "python",
   "pygments_lexer": "ipython3",
   "version": "3.9.15"
  },
  "widgets": {
   "application/vnd.jupyter.widget-state+json": {
    "state": {},
    "version_major": 2,
    "version_minor": 0
   }
  }
 },
 "nbformat": 4,
 "nbformat_minor": 5
}
