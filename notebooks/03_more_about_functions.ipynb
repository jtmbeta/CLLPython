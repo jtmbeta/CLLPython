{
 "cells": [
  {
   "cell_type": "markdown",
   "id": "60c129dd-49e1-486d-b046-5f10facdab00",
   "metadata": {},
   "source": [
    "# More about functions\n",
    "\n",
    "Last week we talked about functions. In Python, a function...\n",
    "\n",
    "  - is a reusable named block of code that completes a particular task or returns a value\n",
    "  - is defined using the `def` keyword\n",
    "  - can have zero or more arguments (sometimes called parameters) \n",
    "  - may perform some task or return a value. The `return` statement is used to return a value from a function\n",
    "    \n",
    "The image below shows the basic anatomy of a user-defined Python function.\n",
    "\n",
    "<img src=../images/function.png width=600>"
   ]
  },
  {
   "cell_type": "code",
   "execution_count": 7,
   "id": "b0ac0abd-6a95-4622-8891-d8d46b3917fb",
   "metadata": {},
   "outputs": [
    {
     "data": {
      "text/markdown": [
       "Last updated: June 11, 2023"
      ],
      "text/plain": [
       "<IPython.core.display.Markdown object>"
      ]
     },
     "metadata": {},
     "output_type": "display_data"
    }
   ],
   "source": [
    "from datetime import datetime\n",
    "from IPython.display import display, Markdown\n",
    "display(Markdown(\"Last updated: {}\".format(datetime.now().strftime(\"%B %d, %Y\"))))"
   ]
  },
  {
   "cell_type": "markdown",
   "id": "88f59bdc-c97d-42f8-9ab6-7d7e0de7b708",
   "metadata": {},
   "source": [
    "## Positional arguments\n",
    "\n",
    "A function need not take any arguments or return any values."
   ]
  },
  {
   "cell_type": "code",
   "execution_count": 5,
   "id": "8b61875e-05ea-4ad8-a337-ba528998862e",
   "metadata": {},
   "outputs": [
    {
     "name": "stdout",
     "output_type": "stream",
     "text": [
      "Hello\n"
     ]
    }
   ],
   "source": [
    "def say_hello():  # Function takes no arguments\n",
    "    print(\"Hello\")\n",
    "    # No return statement\n",
    "    \n",
    "say_hello()"
   ]
  },
  {
   "cell_type": "markdown",
   "id": "082ae8d5-ec4c-462b-b1ac-156ce17faded",
   "metadata": {},
   "source": [
    "But usually a function will have arguments and return something."
   ]
  },
  {
   "cell_type": "code",
   "execution_count": 2,
   "id": "84845469-7fd9-47fd-9a05-fcd73537e3b7",
   "metadata": {},
   "outputs": [
    {
     "name": "stdout",
     "output_type": "stream",
     "text": [
      "Hello, Fred. Have a great day!\n"
     ]
    }
   ],
   "source": [
    "def make_greeting(name):  # One argument\n",
    "    \"\"\"Make a greeting for someone.\n",
    "    \n",
    "    Parameters\n",
    "    ----------\n",
    "    name : str\n",
    "        Name of the person to be greeted.\n",
    "        \n",
    "    Returns\n",
    "    -------\n",
    "    msg : str\n",
    "         A nice greeting message for whoever we wish to greet.\n",
    "    \"\"\"\n",
    "    msg = \"Hello, \" + name + \". Have a great day!\"\n",
    "    return msg  # Return the greeting\n",
    "\n",
    "greeting = make_greeting('Fred')  # Call function\n",
    "print(greeting)  # Use the returned value"
   ]
  },
  {
   "cell_type": "markdown",
   "id": "fa60fbaa-4252-43e1-a58f-da1fe221e3f9",
   "metadata": {},
   "source": [
    "This is a simple case. The function has one argument called `name`, which is a **positional** (sometimes called **required**) argument. The function will not work if a value is not given for `name`.  "
   ]
  },
  {
   "cell_type": "code",
   "execution_count": 28,
   "id": "8b67411f-5dec-41dc-9ad1-1810bad60a23",
   "metadata": {},
   "outputs": [
    {
     "ename": "TypeError",
     "evalue": "make_greeting() missing 1 required positional argument: 'name'",
     "output_type": "error",
     "traceback": [
      "\u001b[0;31m---------------------------------------------------------------------------\u001b[0m",
      "\u001b[0;31mTypeError\u001b[0m                                 Traceback (most recent call last)",
      "Input \u001b[0;32mIn [28]\u001b[0m, in \u001b[0;36m<cell line: 1>\u001b[0;34m()\u001b[0m\n\u001b[0;32m----> 1\u001b[0m greeting \u001b[38;5;241m=\u001b[39m \u001b[43mmake_greeting\u001b[49m\u001b[43m(\u001b[49m\u001b[43m)\u001b[49m\n",
      "\u001b[0;31mTypeError\u001b[0m: make_greeting() missing 1 required positional argument: 'name'"
     ]
    }
   ],
   "source": [
    "greeting = make_greeting()  # No value for name"
   ]
  },
  {
   "cell_type": "markdown",
   "id": "e867942f-ce17-470d-9232-5b3f38ab6c81",
   "metadata": {},
   "source": [
    "We can write a function with any number of positional arguments, but a value must be assigned to each when the function is called. "
   ]
  },
  {
   "cell_type": "code",
   "execution_count": 11,
   "id": "73691ba9-8502-4cab-8572-ce12646d8bd1",
   "metadata": {},
   "outputs": [
    {
     "name": "stdout",
     "output_type": "stream",
     "text": [
      "6 apples cost £2.20\n"
     ]
    }
   ],
   "source": [
    "def shopping(quantity, item, price):\n",
    "    print(f'{quantity} {item} cost £{price:.2f}')\n",
    "    \n",
    "shopping(6, 'apples', 2.2)"
   ]
  },
  {
   "cell_type": "markdown",
   "id": "4df1bcad-b9f9-4f16-b1bc-cd5d22917945",
   "metadata": {},
   "source": [
    "Because the arguments are positional, we can pass in the values without the names and they will be implicitly assigned, but we *must* pass them in the correct order or the function will either not work, or it may lead to unexpected results."
   ]
  },
  {
   "cell_type": "code",
   "execution_count": 12,
   "id": "c6b53ddc-81ab-4c9b-a709-7b8dd1a5a37f",
   "metadata": {},
   "outputs": [
    {
     "name": "stdout",
     "output_type": "stream",
     "text": [
      "6 apples cost £2.20\n",
      "2.2 apples cost £6.00\n"
     ]
    }
   ],
   "source": [
    "shopping(6, 'apples', 2.2)  # Correct order\n",
    "shopping(2.2, 'apples', 6)  # Incorrect order"
   ]
  },
  {
   "cell_type": "markdown",
   "id": "89591f19-60c4-40e7-935f-9140513de70e",
   "metadata": {},
   "source": [
    "To summarise, when using positional arguments, **the correct number of arguments must be specified in the correct order** when the function is called. \n",
    "\n",
    "## Keyword arguments\n",
    "\n",
    "When calling a function, arguments may be specified using the `<keyword>=<value>` format, which lifts the restriction on the order of argument specification. Using keyword arguments, we can call the `shopping` function and specify the arguments in a different order.\n"
   ]
  },
  {
   "cell_type": "code",
   "execution_count": 13,
   "id": "96630b29-c3c4-4297-b3f8-e9bff27d0b92",
   "metadata": {},
   "outputs": [
    {
     "name": "stdout",
     "output_type": "stream",
     "text": [
      "6 apples cost £2.20\n"
     ]
    }
   ],
   "source": [
    "shopping(item='apples', price=2.2, quantity=6)"
   ]
  },
  {
   "cell_type": "markdown",
   "id": "b4a4edcc-7948-4dfe-be76-481a79f29470",
   "metadata": {},
   "source": [
    "Note that in the above function call, the order that arguments are passed differs from the call signature in the original function definition. So, keyword arguments allow for greater flexibility, but we must still provide an argument for each required parameter. "
   ]
  },
  {
   "cell_type": "markdown",
   "id": "53dfa0e0-47c0-4974-8dc6-2901d0fa3dd1",
   "metadata": {},
   "source": [
    "## Default parameters\n",
    "\n",
    "Arguments may be given default values when a function is defined."
   ]
  },
  {
   "cell_type": "code",
   "execution_count": 9,
   "id": "9f5b4a14-6bd2-4bcf-8afe-3b2919d8f9b9",
   "metadata": {},
   "outputs": [],
   "source": [
    "# Function arguments have default values\n",
    "def shopping(quantity=6, item='apples', price=2.20):\n",
    "    print(f'{quantity} {item} cost £{price:.2f}')"
   ]
  },
  {
   "cell_type": "markdown",
   "id": "09f825db-232e-48b5-b8eb-32b09f391a44",
   "metadata": {},
   "source": [
    "Now, if a value is not specified when the function is called, the default value will be assumed."
   ]
  },
  {
   "cell_type": "code",
   "execution_count": 11,
   "id": "b993cda4-b68a-4475-89d9-fc3c17c30e6c",
   "metadata": {},
   "outputs": [
    {
     "name": "stdout",
     "output_type": "stream",
     "text": [
      "6 apples cost £2.20\n",
      "6 apricots cost £2.20\n",
      "6 apples cost £3.00\n",
      "36 Brazil nuts cost £2.20\n"
     ]
    }
   ],
   "source": [
    "shopping()\n",
    "shopping(item='apricots')\n",
    "shopping(price=3.00)\n",
    "shopping(quantity=36, item='Brazil nuts')"
   ]
  },
  {
   "cell_type": "markdown",
   "id": "922e3a6d-e301-4443-80a3-355083cb02f9",
   "metadata": {},
   "source": [
    "## `lambda` functions\n",
    "\n",
    "`lambda` functions are small anonymous functions created 'on-the-fly'. Compared with normal functions defined using the `def` keyword, `lambda` functions have a more concise, but also a more restrictive, syntax.\n",
    "\n",
    "Here's how to define and call a `lambda` function that adds five to any number."
   ]
  },
  {
   "cell_type": "code",
   "execution_count": 12,
   "id": "3b7ba4d4-1382-474f-b478-81cabcd3a0db",
   "metadata": {},
   "outputs": [
    {
     "data": {
      "text/plain": [
       "15"
      ]
     },
     "execution_count": 12,
     "metadata": {},
     "output_type": "execute_result"
    }
   ],
   "source": [
    "(lambda number: number + 5)(10)"
   ]
  },
  {
   "cell_type": "markdown",
   "id": "d831f06f-b1fd-4cde-889b-fa6f049a9a14",
   "metadata": {},
   "source": [
    "Because `lambda` functions are anonymous, the above function no longer exists. However, it is possible to give a name to `lambda` functions and reuse them. "
   ]
  },
  {
   "cell_type": "code",
   "execution_count": 13,
   "id": "c9669ec2-159b-4338-a11f-ba9a85875933",
   "metadata": {},
   "outputs": [
    {
     "data": {
      "text/plain": [
       "15"
      ]
     },
     "execution_count": 13,
     "metadata": {},
     "output_type": "execute_result"
    }
   ],
   "source": [
    "add_five = lambda number: number + 5\n",
    "add_five(10)"
   ]
  },
  {
   "cell_type": "markdown",
   "id": "0e8799ff-c60d-4347-a3af-fad0c582341c",
   "metadata": {},
   "source": [
    "`lambda`'s can be useful little things, but a detailed coverage of them is beyond the scope of this course. If you want to learn more about them I suggest you [read this excellent article](https://realpython.com/python-lambda/)."
   ]
  }
 ],
 "metadata": {
  "kernelspec": {
   "display_name": "Python 3 (ipykernel)",
   "language": "python",
   "name": "python3"
  },
  "language_info": {
   "codemirror_mode": {
    "name": "ipython",
    "version": 3
   },
   "file_extension": ".py",
   "mimetype": "text/x-python",
   "name": "python",
   "nbconvert_exporter": "python",
   "pygments_lexer": "ipython3",
   "version": "3.9.15"
  },
  "widgets": {
   "application/vnd.jupyter.widget-state+json": {
    "state": {},
    "version_major": 2,
    "version_minor": 0
   }
  }
 },
 "nbformat": 4,
 "nbformat_minor": 5
}
